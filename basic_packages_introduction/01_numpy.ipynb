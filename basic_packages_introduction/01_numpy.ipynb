{
 "cells": [
  {
   "cell_type": "markdown",
   "metadata": {},
   "source": [
    "# `numpy`\n",
    "\n",
    "`numpy` is the fundamental package for scientific computing in Python. It is a Python library that provides a multidimensional array object, various derived objects (such as masked arrays and matrices), and an assortment of routines for fast operations on arrays, including mathematical, logical, shape manipulation, sorting, selecting, I/O, discrete Fourier transforms, basic linear algebra, basic statistical operations, random simulation and much more.\n",
    "\n",
    "`numpy` is the foundation for so much in Python and data science. Its multidimensional array object allows for tremendous performance gains when compared against typical Python structures and operations. For this reason, when dealing with large amount of numerical data `numpy` is used almost exclusively. We will focus on learning about `numpy`'s array type and common utility functions for working with numerical data.\n",
    "\n",
    "Let's compare some basic operations in standard Python vs `numpy`. Let's begin by creating a list of 1 million random numbers uniformly distributed from 0.0 to 100.0."
   ]
  },
  {
   "cell_type": "code",
   "execution_count": 1,
   "metadata": {},
   "outputs": [],
   "source": [
    "import random\n",
    "\n",
    "random.seed(0)\n",
    "random_data = [random.uniform(0.0, 100.0) for _ in range(1000000)]"
   ]
  },
  {
   "cell_type": "markdown",
   "metadata": {},
   "source": [
    "Let's perform and time a few simple operations on this list: sum and sort."
   ]
  },
  {
   "cell_type": "code",
   "execution_count": null,
   "metadata": {},
   "outputs": [],
   "source": [
    "%%timeit\n",
    "sum(random_data)"
   ]
  },
  {
   "cell_type": "code",
   "execution_count": null,
   "metadata": {},
   "outputs": [],
   "source": [
    "%%timeit\n",
    "sorted(random_data)"
   ]
  },
  {
   "cell_type": "markdown",
   "metadata": {},
   "source": [
    "The sum operation on a regular Python list of 1 million elements is a few milliseconds, and sorting is a few hundred milliseconds. Now let us convert this to a *`numpy` array* and perform the same operations:"
   ]
  },
  {
   "cell_type": "code",
   "execution_count": null,
   "metadata": {},
   "outputs": [],
   "source": [
    "import numpy as np\n",
    "\n",
    "numpy_random_data = np.array(random_data)\n",
    "numpy_random_data"
   ]
  },
  {
   "cell_type": "code",
   "execution_count": null,
   "metadata": {},
   "outputs": [],
   "source": [
    "%%timeit\n",
    "numpy_random_data.sum()"
   ]
  },
  {
   "cell_type": "code",
   "execution_count": null,
   "metadata": {},
   "outputs": [],
   "source": [
    "%%timeit\n",
    "numpy_random_data.sort()"
   ]
  },
  {
   "cell_type": "markdown",
   "metadata": {},
   "source": [
    "Using `numpy` arrays these times are reduced to a few hundred *microseconds* and a few milliseconds respectively for summing and sorting. This is a tremendous improvement! These times may not seem significant, but this is only summing and sorting - for larger and more complex operations the performance gains are even more substantial. Let's revisit how we even created the `numpy` array:\n",
    "\n",
    "```python\n",
    "import numpy as np\n",
    "numpy_random_data = np.array(random_data)\n",
    "```\n",
    "\n",
    "First, we need to import `numpy` into Python so that we can use it. It is conventional to alias the `numpy` package as `np`. Once we have import `numpy` we can access the `array` object, which can be constructed from a Python list. Note that constructing an array this way copies the input list! An array in `numpy` is a one dimensional structure, though we can combine single dimensional arrays into multidimensional arrays (i.e. matrices). We can observe the shape of an array using the `shape` attribute of an array:"
   ]
  },
  {
   "cell_type": "code",
   "execution_count": null,
   "metadata": {},
   "outputs": [],
   "source": [
    "numpy_random_data.shape"
   ]
  },
  {
   "cell_type": "markdown",
   "metadata": {},
   "source": [
    "This tuple contains a single element, telling us that the array is 1-dimensional and that one dimension has 1000000 elements. By default `numpy` stores arrays in row-major order, and so we can also think of our 1-dimensional 1000000 element array as a 1x1000000 matrix (1 row, 1000000 columns). Creating a multidimensional array is as simple as providing a *nested list* when creating the array:"
   ]
  },
  {
   "cell_type": "code",
   "execution_count": null,
   "metadata": {},
   "outputs": [],
   "source": [
    "data = [[0, 1, 2], [3, 4, 5], [6, 7, 8]]\n",
    "sample_matrix = np.array(data)\n",
    "sample_matrix"
   ]
  },
  {
   "cell_type": "code",
   "execution_count": null,
   "metadata": {},
   "outputs": [],
   "source": [
    "sample_matrix.shape"
   ]
  },
  {
   "cell_type": "markdown",
   "metadata": {},
   "source": [
    "A unique requirement of multidimensional `numpy` arrays is that every row must have the same number of elements! Python lists of lists ignore this requirement, but `numpy` cannot!\n",
    "\n",
    "This is an important use case for lists (compared to arrays). If we need to store data with a variable number of elements per record, a list might be more convenient."
   ]
  },
  {
   "cell_type": "code",
   "execution_count": null,
   "metadata": {},
   "outputs": [],
   "source": [
    "data = [[0, 1, 2], [3, 4, 5], [6, 7]]\n",
    "sample_matrix = np.array(data)\n",
    "sample_matrix"
   ]
  },
  {
   "cell_type": "markdown",
   "metadata": {},
   "source": [
    "This error is a little obscure, but it is telling us that the dimensions across all rows must be the same (it was expecting 3 elements in the last row). We have a number of ways of creating arrays and multidimensional arrays with preset sizes and shapes. It is common to want to create a default array or matrix containing all 0s or 1s, and `numpy` gives us helper functions to do exactly that:  "
   ]
  },
  {
   "cell_type": "code",
   "execution_count": null,
   "metadata": {},
   "outputs": [],
   "source": [
    "all_zeros = np.zeros(shape=(5, 10))\n",
    "all_zeros"
   ]
  },
  {
   "cell_type": "code",
   "execution_count": null,
   "metadata": {},
   "outputs": [],
   "source": [
    "all_ones = np.ones(shape=(5, 10))\n",
    "all_ones"
   ]
  },
  {
   "cell_type": "markdown",
   "metadata": {},
   "source": [
    "We can also create arrays and matrices with other default values, but just need to use the *fill* function to fill the object with that value:"
   ]
  },
  {
   "cell_type": "code",
   "execution_count": null,
   "metadata": {},
   "outputs": [],
   "source": [
    "all_twos = np.zeros(shape=(10, 2))\n",
    "all_twos.fill(2)\n",
    "all_twos"
   ]
  },
  {
   "cell_type": "markdown",
   "metadata": {},
   "source": [
    "Note here that these values are *floating point* numbers - what if we want an array of integers? We need to tell `numpy` what datatype we want to use, otherwise it will assume a floating point value type."
   ]
  },
  {
   "cell_type": "code",
   "execution_count": null,
   "metadata": {},
   "outputs": [],
   "source": [
    "all_twos.dtype"
   ]
  },
  {
   "cell_type": "markdown",
   "metadata": {},
   "source": [
    "We can tell `numpy` the type of the array elements by specifying the `dtype` of the array when creating it. Below we are going to tell `numpy` to make an array of integers, suing `numpy`'s special integer type (it has a few of these!)."
   ]
  },
  {
   "cell_type": "code",
   "execution_count": null,
   "metadata": {},
   "outputs": [],
   "source": [
    "all_int_twos = np.zeros(shape=(10, 2), dtype=np.int32)\n",
    "all_int_twos.fill(2)\n",
    "all_int_twos"
   ]
  },
  {
   "cell_type": "code",
   "execution_count": null,
   "metadata": {},
   "outputs": [],
   "source": [
    "all_int_twos.dtype"
   ]
  },
  {
   "cell_type": "markdown",
   "metadata": {},
   "source": [
    "The \"32\" in the name of the type indicates that the integers should be 32-bit, or 4-byte, integers. We can use 32-bit integers over 64-bit integers to save memory, and thus processing time! `numpy` out of the box provides the many integer and floating point types, we are largely only concerned with the following:\n",
    "\n",
    "* `np.int8` - 8-bit signed integer\n",
    "* `np.int16` - 16-bit signed integer\n",
    "* `np.int32` - 32-bit signed integer\n",
    "* `np.int64` - 64-bit signed integer\n",
    "* `np.uint8` - 8-bit unsigned integer\n",
    "* `np.uint16` - 16-bit unsigned integer\n",
    "* `np.uint32` - 32-bit unsigned integer\n",
    "* `np.uint64` - 64-bit unsigned integer\n",
    "* `np.float32` - 32-bit single precision floating point number\n",
    "* `np.float64` - 64-bit double precision floating point number\n",
    "\n",
    "There are 128-bit and 256-bit variants of some of these, but are largely unnecessary for what we will be doing in this course. If we try using Python's types when creating an array, `numpy` will replace it with the appropriate `numpy` type:"
   ]
  },
  {
   "cell_type": "code",
   "execution_count": null,
   "metadata": {},
   "outputs": [],
   "source": [
    "np.array([], dtype=int).dtype, np.array([], dtype=float).dtype"
   ]
  },
  {
   "cell_type": "markdown",
   "metadata": {},
   "source": [
    "We can also create identify matrices:"
   ]
  },
  {
   "cell_type": "code",
   "execution_count": null,
   "metadata": {},
   "outputs": [],
   "source": [
    "np.identity(5, dtype=np.int32)"
   ]
  },
  {
   "cell_type": "markdown",
   "metadata": {},
   "source": [
    "Many utility functions in `numpy` that generate data produce that data as arrays; from these arrays we can *reshape* them into matrices. Take for example generating random numbers in `numpy`: "
   ]
  },
  {
   "cell_type": "code",
   "execution_count": null,
   "metadata": {},
   "outputs": [],
   "source": [
    "np.random.seed(1)\n",
    "random_matrix = np.random.randint(0, 100, 144).reshape((12, 12))\n",
    "random_matrix"
   ]
  },
  {
   "cell_type": "markdown",
   "metadata": {},
   "source": [
    "Here we are asking `numpy` to generate 144 random integers between 0 and 100. `numpy` returns this to us as a large 1-dimensional array. If we want to turn this into a matrix, we can use the `reshape` function. This function will return a new matrix (copied from the array) such that the data is broken into rows. We asked `numpy` to reshape the large array into a 12x12 matrix (remember that 12*12=144!).\n",
    "\n",
    "We can also have `numpy` generate evenly spaced data using either ranges or linear-spaces:"
   ]
  },
  {
   "cell_type": "code",
   "execution_count": null,
   "metadata": {},
   "outputs": [],
   "source": [
    "# Create an array of floating point numbers in the range [0, 100)], taking\n",
    "# every 4th number, reshaped into a 5x5 matrix\n",
    "# np.arange(0.0, 100.0, 4.0).reshape((5,5))\n",
    "\n",
    "np.arange(0.0, 100.0, 4).reshape((5, 5))"
   ]
  },
  {
   "cell_type": "code",
   "execution_count": null,
   "metadata": {},
   "outputs": [],
   "source": [
    "np.linspace(0, 100, 30).reshape((5, 6))\n",
    "\n",
    "# create an array of 30 evenly distributed integers in the range [0, 100],\n",
    "# reshaped into a 5x6 matrix\n",
    "\n",
    "np.linspace(0, 100, 30).reshape((5, 6))"
   ]
  },
  {
   "cell_type": "markdown",
   "metadata": {},
   "source": [
    "## Selecting Data\n",
    "\n",
    "Selecting and indexing data from a `numpy` array is effectively the same as with a Python list, but there are some bonuses with `numpy`! Let's use the randomized matrix that we just created."
   ]
  },
  {
   "cell_type": "code",
   "execution_count": null,
   "metadata": {},
   "outputs": [],
   "source": [
    "random_matrix"
   ]
  },
  {
   "cell_type": "code",
   "execution_count": null,
   "metadata": {},
   "outputs": [],
   "source": [
    "random_matrix[2]  # get the 3rd row"
   ]
  },
  {
   "cell_type": "code",
   "execution_count": null,
   "metadata": {},
   "outputs": [],
   "source": [
    "random_matrix[2, 7]  # get the 3rd row, 8th column"
   ]
  },
  {
   "cell_type": "code",
   "execution_count": null,
   "metadata": {},
   "outputs": [],
   "source": [
    "random_matrix[:, 3]  # slice the 4th column"
   ]
  },
  {
   "cell_type": "code",
   "execution_count": null,
   "metadata": {},
   "outputs": [],
   "source": [
    "random_matrix[0:5, 0:5]\n",
    "\n",
    "# slice both axes, taking the first half of each, giving us a \"quadrant\" of data"
   ]
  },
  {
   "cell_type": "markdown",
   "metadata": {},
   "source": [
    "## Operations\n",
    "\n",
    "We can use arithmetic operations on arrays *if and only if the operation is well defined for the shapes of the arrays*. There are both scalar and matrix operations that we can apply. Here are a few examples of of some scalar operations:"
   ]
  },
  {
   "cell_type": "code",
   "execution_count": null,
   "metadata": {},
   "outputs": [],
   "source": [
    "data = np.ones(shape=(10, 10))\n",
    "data"
   ]
  },
  {
   "cell_type": "code",
   "execution_count": null,
   "metadata": {},
   "outputs": [],
   "source": [
    "# scalar addition\n",
    "data + 1"
   ]
  },
  {
   "cell_type": "code",
   "execution_count": null,
   "metadata": {},
   "outputs": [],
   "source": [
    "# scalar multiplication\n",
    "data * 10"
   ]
  },
  {
   "cell_type": "code",
   "execution_count": null,
   "metadata": {},
   "outputs": [],
   "source": [
    "# we can combine operations\n",
    "data * 10 + 1"
   ]
  },
  {
   "cell_type": "code",
   "execution_count": null,
   "metadata": {},
   "outputs": [],
   "source": [
    "# we can even raise elements to some power!\n",
    "(data + 1) ** 4"
   ]
  },
  {
   "cell_type": "markdown",
   "metadata": {},
   "source": [
    "We also have matrix operations, some of which require the other matrix to have a compatible shape!"
   ]
  },
  {
   "cell_type": "code",
   "execution_count": null,
   "metadata": {},
   "outputs": [],
   "source": [
    "# for these examples let's set up a 1x3 matrix (an array) with the list [1, 2, 3] and two 3x3 matrices, one with the numbers 0 through 8, and another 10 through 18\n",
    "\n",
    "array_1 = np.array([1, 2, 3])\n",
    "data_1 = np.array(np.arange(0, 9).tolist()).reshape((3, 3))\n",
    "data_2 = np.array(np.arange(10, 19).tolist()).reshape((3, 3))\n",
    "\n",
    "array_1, data_1, data_2"
   ]
  },
  {
   "cell_type": "markdown",
   "metadata": {},
   "source": [
    "We can perform element-wise addition, subtraction, multiplication, etc. using the standard operators"
   ]
  },
  {
   "cell_type": "code",
   "execution_count": null,
   "metadata": {},
   "outputs": [],
   "source": [
    "data_1 + data_2"
   ]
  },
  {
   "cell_type": "code",
   "execution_count": null,
   "metadata": {},
   "outputs": [],
   "source": [
    "data_1 * data_2"
   ]
  },
  {
   "cell_type": "code",
   "execution_count": null,
   "metadata": {},
   "outputs": [],
   "source": [
    "# adding an array and a matrix can only be done if they have compatible shapes!\n",
    "# 1x3 and 3x3 are compatible shapes! but, say, 1x4 or 2x3 are not compatible with 3x3.\n",
    "# this compatibility is called broadcasting, and is only successful when all dimensions\n",
    "# either match or one of them is 1\n",
    "array_1 + data_1"
   ]
  },
  {
   "cell_type": "markdown",
   "metadata": {},
   "source": [
    "We can also perform common matrix operations, like computing dot products, cross products, and even computing the determinant:"
   ]
  },
  {
   "cell_type": "code",
   "execution_count": null,
   "metadata": {},
   "outputs": [],
   "source": [
    "np.dot(array_1, data_1)"
   ]
  },
  {
   "cell_type": "code",
   "execution_count": null,
   "metadata": {},
   "outputs": [],
   "source": [
    "np.cross(array_1, data_1)"
   ]
  },
  {
   "cell_type": "code",
   "execution_count": null,
   "metadata": {},
   "outputs": [],
   "source": [
    "np.linalg.det(data_1)"
   ]
  },
  {
   "cell_type": "markdown",
   "metadata": {},
   "source": [
    "## Exercise\n",
    "\n",
    "`numpy` is really great at applying functions to arrays and matrices in large batches, so long as the function is *vectorized*. This means that the function is designed to operate on entire arrays. We want to use `numpy` to generate the points on the edge of a circle. We can do this by generating a linear spacing of values from 0 to $2\\pi$ and then applying trigonometric functions to that array to build the vertices.\n",
    "\n",
    "Take a moment to:\n",
    "\n",
    "1. define a variable named `angles` using a `numpy` linear space from 0 to $2\\pi$ with 100 elements\n",
    "2. define a variable named `x_vector` using the `numpy` function `np.cos` and passing in `angles`\n",
    "3. define a variable named `y_vector` using the `numpy` function `np.sin` and passing in `angles`"
   ]
  },
  {
   "cell_type": "code",
   "execution_count": 39,
   "metadata": {},
   "outputs": [],
   "source": [
    "angles = np.linspace(0.0, 2 * np.pi, 100)\n",
    "x_vector = np.cos(angles)\n",
    "y_vector = np.sin(angles)"
   ]
  },
  {
   "cell_type": "code",
   "execution_count": null,
   "metadata": {},
   "outputs": [],
   "source": [
    "import matplotlib.pyplot as plt\n",
    "\n",
    "plt.scatter(x_vector, y_vector)\n",
    "\n",
    "# Make the axes square so the circle is perfect\n",
    "ax = plt.gca()\n",
    "ax.set_aspect(\"equal\", adjustable=\"box\")"
   ]
  }
 ],
 "metadata": {
  "kernelspec": {
   "display_name": "Python 3",
   "language": "python",
   "name": "python3"
  },
  "language_info": {
   "codemirror_mode": {
    "name": "ipython",
    "version": 3
   },
   "file_extension": ".py",
   "mimetype": "text/x-python",
   "name": "python",
   "nbconvert_exporter": "python",
   "pygments_lexer": "ipython3",
   "version": "3.12.1"
  },
  "orig_nbformat": 4
 },
 "nbformat": 4,
 "nbformat_minor": 2
}
