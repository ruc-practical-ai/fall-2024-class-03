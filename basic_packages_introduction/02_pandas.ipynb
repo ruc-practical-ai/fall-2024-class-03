{
 "cells": [
  {
   "cell_type": "markdown",
   "metadata": {},
   "source": [
    "# `pandas`\n",
    "\n",
    "`pandas` is a fast, powerful, flexible and easy to use open source data analysis and manipulation tool,\n",
    "built on top of the Python programming language.\n",
    "\n",
    "`pandas` is one of the most powerful tools in the entire data science ecosystem. It allows us to work with tabular and multidimensional data with extreme ease and flexibility, and is incredibly easy to jump into. \n"
   ]
  },
  {
   "cell_type": "markdown",
   "metadata": {},
   "source": [
    "## Series & DataFrames\n",
    "\n",
    "To start we will learn about the two primary data structures that `pandas` defines: series and DataFrames.\n",
    "\n",
    "### Series\n",
    "\n",
    "`pandas` series (in code `pd.Series`) are arrays of data (much like a `numpy` array). They usually contain elements that are of the same type, but this is not a requirement. We can generally think of a series as a column of data, where we can label rows. Let's make a simple series from random `numpy` data by simply passing a `numpy` array into the constructor:"
   ]
  },
  {
   "cell_type": "code",
   "execution_count": null,
   "metadata": {},
   "outputs": [],
   "source": [
    "import numpy as np\n",
    "import pandas as pd  # it is standard to import pandas with the alias pd\n",
    "\n",
    "\n",
    "np.random.seed(1)\n",
    "random_data = np.random.randint(0, 10, 10)\n",
    "\n",
    "# Create a series containing 10 random integers in the half-open set [0,10)\n",
    "random_series = pd.Series(random_data)\n",
    "random_series"
   ]
  },
  {
   "cell_type": "markdown",
   "metadata": {},
   "source": [
    "Displaying a series will show both the row-numbers (also called the index) on the left, with the data to the right. As expected the row numbers range from 0 to 9, and the numbers in our column seem sufficiently random. `pandas` also determined that the `dtype` for the series should be 64-bit integer (since that was the type that `numpy` generated using `randint`).\n",
    "\n",
    "We can access the elements of our series in the same familiar ways as before, but there are also some new ways we need to understand."
   ]
  },
  {
   "cell_type": "code",
   "execution_count": null,
   "metadata": {},
   "outputs": [],
   "source": [
    "(\n",
    "    random_series[\n",
    "        1\n",
    "    ],  # standard access, but deprecated! don't access a series like this!\n",
    "    random_series.loc[\n",
    "        1\n",
    "    ],  # access the row with index **label** 1 (i.e., row with index = one)\n",
    "    random_series.iloc[\n",
    "        1\n",
    "    ],  # access the row with index **position** 1 (i.e., the 2nd row)\n",
    ")"
   ]
  },
  {
   "cell_type": "markdown",
   "metadata": {},
   "source": [
    "Why would we need these new methods for accessing data from a series? The difference between these access methods will make more sense if we add different *labels* to our index. We can access the index of a series easily:"
   ]
  },
  {
   "cell_type": "code",
   "execution_count": null,
   "metadata": {},
   "outputs": [],
   "source": [
    "random_series.index"
   ]
  },
  {
   "cell_type": "markdown",
   "metadata": {},
   "source": [
    "Because we initialized the series with a list, `pandas` efficiently just represents the index using an integer range to represent row numbers. Numerical labeling is the default behavior for `pandas`. We can manually override this index with a new one of the same size. Here we are going to manually replace the existing index with a new one from a list of labels."
   ]
  },
  {
   "cell_type": "code",
   "execution_count": null,
   "metadata": {},
   "outputs": [],
   "source": [
    "random_series.index = [\n",
    "    \"a\",\n",
    "    \"b\",\n",
    "    \"c\",\n",
    "    \"d\",\n",
    "    \"e\",\n",
    "    \"f\",\n",
    "    \"g\",\n",
    "    \"h\",\n",
    "    \"i\",\n",
    "    \"j\",\n",
    "]  # this must have the same length as the previous index!\n",
    "random_series"
   ]
  },
  {
   "cell_type": "markdown",
   "metadata": {},
   "source": [
    "Now we can access the series' elements by their index labels:"
   ]
  },
  {
   "cell_type": "code",
   "execution_count": null,
   "metadata": {},
   "outputs": [],
   "source": [
    "# access and print the row with index label 'b'\n",
    "print(random_series.loc[\"b\"])\n",
    "\n",
    "# access and print the second row (same as the row with index label 'b')\n",
    "print(random_series.iloc[1])\n",
    "\n",
    "# access and print the third row\n",
    "print(random_series.iloc[2])"
   ]
  },
  {
   "cell_type": "markdown",
   "metadata": {},
   "source": [
    "We can also access an element directly by the index label *if and only if the label is a string!*"
   ]
  },
  {
   "cell_type": "code",
   "execution_count": null,
   "metadata": {},
   "outputs": [],
   "source": [
    "random_series.b  # equivalent to random_series.loc['b']"
   ]
  },
  {
   "cell_type": "markdown",
   "metadata": {},
   "source": [
    "We can also slice series just like lists:"
   ]
  },
  {
   "cell_type": "code",
   "execution_count": null,
   "metadata": {},
   "outputs": [],
   "source": [
    "random_series.iloc[3:7]"
   ]
  },
  {
   "cell_type": "markdown",
   "metadata": {},
   "source": [
    "But note that because our index is no longer a range, we cannot slice `loc` using integers. Instead, we can slice `loc` using the labels!"
   ]
  },
  {
   "cell_type": "code",
   "execution_count": null,
   "metadata": {},
   "outputs": [],
   "source": [
    "# This would return an error; we need to slide loc by the actual labels (in\n",
    "# this case, strings)\n",
    "# print(random_series.loc[3:7])\n",
    "\n",
    "print(random_series.loc[\"d\":\"g\"])"
   ]
  },
  {
   "cell_type": "markdown",
   "metadata": {},
   "source": [
    "We can perform operations on series like we can with arrays and lists, but we should take care to *never write an explicit loop*. Instead we should use the `apply` method to apply functions to a series. This is more pythonic and in some cases faster."
   ]
  },
  {
   "cell_type": "code",
   "execution_count": null,
   "metadata": {},
   "outputs": [],
   "source": [
    "random_series.apply(\n",
    "    lambda x: x * x\n",
    ")  # returns a new series with each row squared"
   ]
  },
  {
   "cell_type": "markdown",
   "metadata": {},
   "source": [
    "Assuming that two series share the same index, we can perform mathematical operations like addition using two series. "
   ]
  },
  {
   "cell_type": "code",
   "execution_count": null,
   "metadata": {},
   "outputs": [],
   "source": [
    "other_random_series = pd.Series(\n",
    "    np.random.randint(0, 10, 10),\n",
    "    index=[\"a\", \"b\", \"c\", \"d\", \"e\", \"f\", \"g\", \"h\", \"i\", \"j\"],\n",
    ")\n",
    "random_series + other_random_series"
   ]
  },
  {
   "cell_type": "markdown",
   "metadata": {},
   "source": [
    "What happens when our indices do not match?"
   ]
  },
  {
   "cell_type": "code",
   "execution_count": null,
   "metadata": {},
   "outputs": [],
   "source": [
    "other_random_series = pd.Series(np.random.randint(0, 10, 10))\n",
    "random_series + other_random_series"
   ]
  },
  {
   "cell_type": "markdown",
   "metadata": {},
   "source": [
    "When performing an operation like addition with two series, `pandas` will attempt to add elements that have common labels. Any labels that don't have a pair are effectively converted to `NaN`, or a value indicating \"not a number\".\n",
    "\n",
    "If we ever need to change our series into a list or `numpy` array, we can use the methods `to_list` and `to_numpy`:"
   ]
  },
  {
   "cell_type": "code",
   "execution_count": null,
   "metadata": {},
   "outputs": [],
   "source": [
    "random_series.to_list(), random_series.to_numpy()"
   ]
  },
  {
   "cell_type": "markdown",
   "metadata": {},
   "source": [
    "## DataFrames\n",
    "\n",
    "\n"
   ]
  },
  {
   "cell_type": "markdown",
   "metadata": {},
   "source": [
    "Having individual columns of data is much less useful than actually having a table of data, especially if all of the series are aligned on their index! A dataframe is a tabular piece of data with a row index just like series, but also contains a column index. A common way of creating DataFrames is from dictionaries, mapping column names to lists/arrays/series of data."
   ]
  },
  {
   "cell_type": "code",
   "execution_count": null,
   "metadata": {},
   "outputs": [],
   "source": [
    "platonic_properties = {\n",
    "    \"vertices\": [4, 8, 6, 20, 12],\n",
    "    \"edges\": [6, 12, 12, 30, 30],\n",
    "    \"faces\": [4, 6, 8, 12, 20],\n",
    "}\n",
    "names = [\"tetrahedron\", \"cube\", \"octahedron\", \"dodecahedron\", \"icosahedron\"]\n",
    "\n",
    "platonic_solids = pd.DataFrame(platonic_properties, index=names)\n",
    "platonic_solids"
   ]
  },
  {
   "cell_type": "markdown",
   "metadata": {},
   "source": [
    "This dataframe contains properties of platonic solids. It has an index (again, these are the row labels) which we set to the names of the platonic solid. The dataframe also has 3 columns: vertices, edges, and faces.\n",
    "\n",
    "We can call the `info` function of the dataframe to observe some of its properties:"
   ]
  },
  {
   "cell_type": "code",
   "execution_count": null,
   "metadata": {},
   "outputs": [],
   "source": [
    "platonic_solids.info()"
   ]
  },
  {
   "cell_type": "markdown",
   "metadata": {},
   "source": [
    "We can also use the `describe` method to numerically summarize the table, or the `memory_usage` method to look at the specific memory usage per column.\n",
    "\n",
    "We can access data by row, by column, or by individual elements directly. We can access all of these pieces of data in multiple ways. Generally, when accessing *rows* of data, we will use the `loc` or `iloc` attributes. When accessing columns of data we will use the column name directly."
   ]
  },
  {
   "cell_type": "code",
   "execution_count": null,
   "metadata": {},
   "outputs": [],
   "source": [
    "# access the data for a dodecahedron\n",
    "platonic_solids.loc[\"dodecahedron\"]"
   ]
  },
  {
   "cell_type": "code",
   "execution_count": null,
   "metadata": {},
   "outputs": [],
   "source": [
    "# access the number of edges for each solid\n",
    "platonic_solids.loc[:, \"edges\"]"
   ]
  },
  {
   "cell_type": "code",
   "execution_count": null,
   "metadata": {},
   "outputs": [],
   "source": [
    "# we can abbreviate selecting an entire column\n",
    "platonic_solids[\"edges\"]  # or even platonic_solids.edges"
   ]
  },
  {
   "cell_type": "code",
   "execution_count": null,
   "metadata": {},
   "outputs": [],
   "source": [
    "# access the number of vertices that a dodecahedron has\n",
    "platonic_solids.loc[\"dodecahedron\", \"vertices\"]"
   ]
  },
  {
   "cell_type": "markdown",
   "metadata": {},
   "source": [
    "The true power of `pandas` comes with selecting data. Selecting slices and individual elements are fine, but we usually need more than that. Let's say we want to select all platonic solids with 12 edges. To do so we need to *create a mask*. A mask is list/array/series of booleans that indicates whether or not to select the value at its associated position. Creating a mask is as simple as just applying some comparison directly to a series/column:"
   ]
  },
  {
   "cell_type": "code",
   "execution_count": null,
   "metadata": {},
   "outputs": [],
   "source": [
    "edge_mask = platonic_solids.edges == 12\n",
    "edge_mask"
   ]
  },
  {
   "cell_type": "markdown",
   "metadata": {},
   "source": [
    "We can use this mask to then access the rows that satisfy the comparison above"
   ]
  },
  {
   "cell_type": "code",
   "execution_count": null,
   "metadata": {},
   "outputs": [],
   "source": [
    "platonic_solids.loc[edge_mask]"
   ]
  },
  {
   "cell_type": "markdown",
   "metadata": {},
   "source": [
    "## Exercise\n",
    "\n",
    "Create a mask to select rows where the number of vertices is greater than the number of faces."
   ]
  },
  {
   "cell_type": "code",
   "execution_count": null,
   "metadata": {},
   "outputs": [],
   "source": [
    "# Exercise\n",
    "\n",
    "vertices_mask = platonic_solids[\"vertices\"] > platonic_solids[\"faces\"]\n",
    "vertices_mask"
   ]
  },
  {
   "cell_type": "markdown",
   "metadata": {},
   "source": [
    "`pandas` makes it easy to load data from a file. We have a file in this repository called `nj_counties` that contains some census data detailing the population of each county of NJ for the year 2020, and estimates and projections for 2021 and 2022. We can tell `pandas` to automatically read a CSV into a dataframe using the `read_csv` method."
   ]
  },
  {
   "cell_type": "code",
   "execution_count": null,
   "metadata": {},
   "outputs": [],
   "source": [
    "nj_county_data = pd.read_csv(\"data/nj_counties.csv\")\n",
    "nj_county_data"
   ]
  },
  {
   "cell_type": "markdown",
   "metadata": {},
   "source": [
    "Let's organize this dataframe a little, to make it a little easier to work with. We want to move the column \"County\" to be the index of the dataframe, and we want to make sure that the column names are actual integers. When we parse columns from a CSV, `pandas` will automatically make them strings. This is usually OK, but since we are working with years, which are conventionally integers, we want to make that conversion.\n",
    "\n",
    "For the index we can tell `pandas` to use a column as the index using the method `set_index`. To update the columns, we can tell `pandas` to reinterpret the labels as integers and overwrite them with the integer version."
   ]
  },
  {
   "cell_type": "code",
   "execution_count": null,
   "metadata": {},
   "outputs": [],
   "source": [
    "nj_county_data.set_index(\"County\", inplace=True)\n",
    "\n",
    "# pandas operations by default returns copies, but many operations can be told\n",
    "# to be in-place!\n",
    "\n",
    "nj_county_data.columns = nj_county_data.columns.astype(int)\n",
    "nj_county_data"
   ]
  },
  {
   "cell_type": "markdown",
   "metadata": {},
   "source": [
    "By setting the index to the county, we can now access rows by their county, and now we can access yearly data more intuitively:"
   ]
  },
  {
   "cell_type": "code",
   "execution_count": null,
   "metadata": {},
   "outputs": [],
   "source": [
    "nj_county_data.loc[\"Camden County\", 2022]"
   ]
  },
  {
   "cell_type": "markdown",
   "metadata": {},
   "source": [
    "Let's add two columns to our dataframe called \"Change\" and \"Percent Change\" (respectively the difference from 2020 to 2022, and that difference divided by the counts of 2020). Because columns are just series (that share the same index!) we can easily use mathematical operations to create new series! For example:"
   ]
  },
  {
   "cell_type": "code",
   "execution_count": null,
   "metadata": {},
   "outputs": [],
   "source": [
    "nj_county_data[2022] - nj_county_data[2020]"
   ]
  },
  {
   "cell_type": "markdown",
   "metadata": {},
   "source": [
    "We can assign this expression to a new column; all we need to do is use the subscript operator to access the new column and assign it some data that either has the same index as the dataframe, or the same length:"
   ]
  },
  {
   "cell_type": "code",
   "execution_count": null,
   "metadata": {},
   "outputs": [],
   "source": [
    "nj_county_data[\"Change\"] = nj_county_data[2022] - nj_county_data[2020]\n",
    "nj_county_data[\"Percent Change\"] = (\n",
    "    100.0 * nj_county_data[\"Change\"] / nj_county_data[2020]\n",
    ")\n",
    "nj_county_data"
   ]
  },
  {
   "cell_type": "markdown",
   "metadata": {},
   "source": [
    "We can more clearly see how each county's population has changed - let's sort the dataframe according to the percent changes, in descending order:"
   ]
  },
  {
   "cell_type": "code",
   "execution_count": null,
   "metadata": {},
   "outputs": [],
   "source": [
    "nj_county_data.sort_values(by=\"Percent Change\", ascending=False, inplace=True)\n",
    "nj_county_data"
   ]
  },
  {
   "cell_type": "markdown",
   "metadata": {},
   "source": [
    "## Exercise\n",
    "\n",
    "We want to take our NJ population data and filter it on multiple criteria. We can apply logical combinations of masks using the `&` (element-wise AND) and `|` (element-wise OR) operators. These are considered \"element-wise\" operations in the sense that we perform operations on each element of a mask.\n",
    "\n",
    "We want to get all counties having `Percent Change` with an absolute value grater than 1 and a 2022 estimated population greater than 500000.0. Create a mask for each of those two criteria, and then create a third mask that is created by joining the first two using a *bitwise-and* operation."
   ]
  },
  {
   "cell_type": "code",
   "execution_count": null,
   "metadata": {},
   "outputs": [],
   "source": [
    "abs_greater_than_1_mask = np.abs(nj_county_data[\"Percent Change\"]) > 1\n",
    "population_2022_greater_than_500000 = nj_county_data[2022] > 500000\n",
    "\n",
    "intersection_mask = (\n",
    "    population_2022_greater_than_500000 & abs_greater_than_1_mask\n",
    ")\n",
    "\n",
    "intersection_mask\n",
    "\n",
    "nj_county_data[intersection_mask]"
   ]
  }
 ],
 "metadata": {
  "kernelspec": {
   "display_name": "Python 3",
   "language": "python",
   "name": "python3"
  },
  "language_info": {
   "codemirror_mode": {
    "name": "ipython",
    "version": 3
   },
   "file_extension": ".py",
   "mimetype": "text/x-python",
   "name": "python",
   "nbconvert_exporter": "python",
   "pygments_lexer": "ipython3",
   "version": "3.12.1"
  },
  "orig_nbformat": 4
 },
 "nbformat": 4,
 "nbformat_minor": 2
}
