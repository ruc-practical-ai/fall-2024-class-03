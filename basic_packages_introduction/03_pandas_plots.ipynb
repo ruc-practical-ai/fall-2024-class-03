{
 "cells": [
  {
   "cell_type": "markdown",
   "metadata": {},
   "source": [
    "# Plotting with `pandas`\n",
    "\n",
    "`pandas` makes it easy to plot the data in a data frame. We review some techniques here.\n"
   ]
  },
  {
   "cell_type": "code",
   "execution_count": 1,
   "metadata": {},
   "outputs": [],
   "source": [
    "import pandas as pd"
   ]
  },
  {
   "cell_type": "markdown",
   "metadata": {},
   "source": [
    "## Time Series Data\n",
    "\n",
    "Here we an example of plotting series data. These techniques should look familiar now!\n"
   ]
  },
  {
   "cell_type": "code",
   "execution_count": null,
   "metadata": {},
   "outputs": [],
   "source": [
    "# Get a dataset from the internet\n",
    "walmart_df = pd.read_csv(\"./data/Walmart.csv\")\n",
    "\n",
    "print(walmart_df)\n",
    "\n",
    "walmart_df[\"Date\"] = pd.to_datetime(walmart_df[\"Date\"], format=\"%d-%m-%Y\")"
   ]
  },
  {
   "cell_type": "code",
   "execution_count": null,
   "metadata": {},
   "outputs": [],
   "source": [
    "walmart_df.plot(x=\"Date\", y=\"Weekly_Sales\", rot=45, kind=\"scatter\")"
   ]
  },
  {
   "cell_type": "markdown",
   "metadata": {},
   "source": [
    "## Relational Data\n",
    "\n",
    "Here we see an example of relational data. Relational data shows how different variables relate. We look at the classical iris dataset and use more of the plot functions that `pandas` provides for us than we did when we last looked at it.\n",
    "\n",
    "We can see some potential patterns in this data! We will revisit this soon with a more custom plot."
   ]
  },
  {
   "cell_type": "code",
   "execution_count": null,
   "metadata": {},
   "outputs": [],
   "source": [
    "iris_df = pd.read_csv(\"./data/iris.csv\")\n",
    "\n",
    "iris_df"
   ]
  },
  {
   "cell_type": "code",
   "execution_count": null,
   "metadata": {},
   "outputs": [],
   "source": [
    "iris_df.hist()"
   ]
  },
  {
   "cell_type": "code",
   "execution_count": null,
   "metadata": {},
   "outputs": [],
   "source": []
  }
 ],
 "metadata": {
  "kernelspec": {
   "display_name": "Python 3",
   "language": "python",
   "name": "python3"
  },
  "language_info": {
   "codemirror_mode": {
    "name": "ipython",
    "version": 3
   },
   "file_extension": ".py",
   "mimetype": "text/x-python",
   "name": "python",
   "nbconvert_exporter": "python",
   "pygments_lexer": "ipython3",
   "version": "3.12.1"
  }
 },
 "nbformat": 4,
 "nbformat_minor": 2
}
