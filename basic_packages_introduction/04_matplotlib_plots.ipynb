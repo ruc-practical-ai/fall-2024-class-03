{
 "cells": [
  {
   "cell_type": "markdown",
   "metadata": {},
   "source": [
    "# `matplotlib`\n",
    "\n",
    "Here we take a look at some examples of the power of `matplotlib`! When we make plots using Pandas, we are calling `matplotlib` under the hood. However, we can get much more control over our plots by calling `matplotlib` directly. All of the examples in this notebook are taken from `matplotlib`'s [gallery](https://matplotlib.org/stable/gallery/index.html)."
   ]
  },
  {
   "cell_type": "code",
   "execution_count": 1,
   "metadata": {},
   "outputs": [],
   "source": [
    "import matplotlib.pyplot as plt\n",
    "import numpy as np"
   ]
  },
  {
   "cell_type": "markdown",
   "metadata": {},
   "source": [
    "## Simple Plot\n",
    "\n",
    "Here we see a demo of the simplest possible plot with `matplotlib`!"
   ]
  },
  {
   "cell_type": "code",
   "execution_count": null,
   "metadata": {},
   "outputs": [],
   "source": [
    "# Simple plot\n",
    "# https://matplotlib.org/stable/gallery/lines_bars_and_markers/simple_plot.html#sphx-glr-gallery-lines-bars-and-markers-simple-plot-py\n",
    "\n",
    "t = np.arange(0.0, 2.0, 0.01)\n",
    "s = 1 + np.sin(2 * np.pi * t)\n",
    "\n",
    "fig, ax = plt.subplots()\n",
    "ax.plot(t, s)\n",
    "\n",
    "ax.set(\n",
    "    xlabel=\"time (s)\",\n",
    "    ylabel=\"voltage (mV)\",\n",
    "    title=\"About as simple as it gets, folks\",\n",
    ")\n",
    "ax.grid()\n",
    "\n",
    "fig.savefig(\"test.png\")\n",
    "plt.show()"
   ]
  },
  {
   "cell_type": "markdown",
   "metadata": {},
   "source": [
    "## Stem Plot\n",
    "\n",
    "Stem plots are sometimes used to plot discrete signals or measurements while making clear where those measurements intersect the x-axis."
   ]
  },
  {
   "cell_type": "code",
   "execution_count": null,
   "metadata": {},
   "outputs": [],
   "source": [
    "# Stem plot\n",
    "# https://matplotlib.org/stable/gallery/lines_bars_and_markers/stem_plot.html#sphx-glr-gallery-lines-bars-and-markers-stem-plot-py\n",
    "x = np.linspace(0.1, 2 * np.pi, 41)\n",
    "y = np.exp(np.sin(x))\n",
    "\n",
    "plt.stem(x, y)\n",
    "plt.show()\n",
    "\n",
    "# Change the color, marker types, and baseline\n",
    "marker_line, stem_lines, baseline = plt.stem(\n",
    "    x, y, linefmt=\"grey\", markerfmt=\"D\", bottom=1.1\n",
    ")\n",
    "marker_line.set_markerfacecolor(\"none\")\n",
    "plt.show()"
   ]
  },
  {
   "cell_type": "markdown",
   "metadata": {},
   "source": [
    "## Categorical Data\n",
    "\n",
    "`matplotlib` offers many options for plotting discrete categorical data. We can use `matplotlib` to plot this data from a dictionary."
   ]
  },
  {
   "cell_type": "code",
   "execution_count": null,
   "metadata": {},
   "outputs": [],
   "source": [
    "# Categorical data\n",
    "# https://matplotlib.org/stable/gallery/lines_bars_and_markers/categorical_variables.html#sphx-glr-gallery-lines-bars-and-markers-categorical-variables-py\n",
    "\n",
    "data = {\"apple\": 10, \"orange\": 15, \"lemon\": 5, \"lime\": 20}\n",
    "names = list(data.keys())\n",
    "values = list(data.values())\n",
    "\n",
    "fig, axs = plt.subplots(1, 3, figsize=(9, 3), sharey=True)\n",
    "axs[0].bar(names, values)\n",
    "axs[1].scatter(names, values)\n",
    "axs[2].plot(names, values)\n",
    "fig.suptitle(\"Categorical Plotting\")"
   ]
  },
  {
   "cell_type": "markdown",
   "metadata": {},
   "source": [
    "## Bar Charts\n",
    "\n",
    "We have already seen bar charts through pandas. Here we use `matplotlib` directly to show a bar chart."
   ]
  },
  {
   "cell_type": "code",
   "execution_count": null,
   "metadata": {},
   "outputs": [],
   "source": [
    "# Bar Charts\n",
    "# https://matplotlib.org/stable/gallery/lines_bars_and_markers/bar_colors.html#sphx-glr-gallery-lines-bars-and-markers-bar-colors-py\n",
    "\n",
    "fig, ax = plt.subplots()\n",
    "\n",
    "fruits = [\"apple\", \"blueberry\", \"cherry\", \"orange\"]\n",
    "counts = [40, 100, 30, 55]\n",
    "bar_labels = [\"red\", \"blue\", \"_red\", \"orange\"]\n",
    "bar_colors = [\"tab:red\", \"tab:blue\", \"tab:red\", \"tab:orange\"]\n",
    "\n",
    "ax.bar(fruits, counts, label=bar_labels, color=bar_colors)\n",
    "\n",
    "ax.set_ylabel(\"fruit supply\")\n",
    "ax.set_title(\"Fruit supply by kind and color\")\n",
    "ax.legend(title=\"Fruit color\")\n",
    "\n",
    "plt.show()"
   ]
  },
  {
   "cell_type": "markdown",
   "metadata": {},
   "source": [
    "## Histograms\n",
    "\n",
    "`matplotlib` provides many options for plotting statistical data. A histogram is the most basic. We will see much more advanced examples next class."
   ]
  },
  {
   "cell_type": "code",
   "execution_count": null,
   "metadata": {},
   "outputs": [],
   "source": [
    "# Histograms\n",
    "\n",
    "# Create a random number generator with a fixed seed for reproducibility\n",
    "rng = np.random.default_rng(19680801)\n",
    "\n",
    "N_points = 100000\n",
    "n_bins = 20\n",
    "\n",
    "# Generate two normal distributions\n",
    "dist1 = rng.standard_normal(N_points)\n",
    "dist2 = 0.4 * rng.standard_normal(N_points) + 5\n",
    "\n",
    "fig, axs = plt.subplots(1, 2, sharey=True, tight_layout=True)\n",
    "\n",
    "# We can set the number of bins with the *bins* keyword argument.\n",
    "axs[0].hist(dist1, bins=n_bins)\n",
    "axs[1].hist(dist2, bins=n_bins)"
   ]
  },
  {
   "cell_type": "markdown",
   "metadata": {},
   "source": [
    "## Shading regions with a mask\n",
    "\n",
    "`matplotlib` enables us to shade regions of plots. This is useful for highlighting patterns in the data or regions where interesting patterns occur for our audience."
   ]
  },
  {
   "cell_type": "code",
   "execution_count": null,
   "metadata": {},
   "outputs": [],
   "source": [
    "# Shade regions using a logical mask\n",
    "# https://matplotlib.org/stable/gallery/lines_bars_and_markers/span_regions.html#sphx-glr-gallery-lines-bars-and-markers-span-regions-py\n",
    "\n",
    "t = np.arange(0.0, 2, 0.01)\n",
    "s = np.sin(2 * np.pi * t)\n",
    "\n",
    "fig, ax = plt.subplots()\n",
    "\n",
    "ax.plot(t, s, color=\"black\")\n",
    "ax.axhline(0, color=\"black\")\n",
    "\n",
    "ax.fill_between(t, 1, where=s > 0.5, facecolor=\"green\", alpha=0.5)\n",
    "ax.fill_between(t, -1, where=s < -0.9, facecolor=\"red\", alpha=0.5)\n",
    "\n",
    "plt.show()"
   ]
  },
  {
   "cell_type": "markdown",
   "metadata": {},
   "source": [
    "## Fill Between\n",
    "\n",
    "We can fill between two lines. This is useful for visualizing the area under a line."
   ]
  },
  {
   "cell_type": "code",
   "execution_count": null,
   "metadata": {},
   "outputs": [],
   "source": [
    "# Fill Between and Alpha\n",
    "# https://matplotlib.org/stable/gallery/lines_bars_and_markers/fill_between_alpha.html#sphx-glr-gallery-lines-bars-and-markers-fill-between-alpha-py\n",
    "\n",
    "import matplotlib.cbook as cbook\n",
    "\n",
    "# load up some sample financial data\n",
    "r = cbook.get_sample_data(\"goog.npz\")[\"price_data\"]\n",
    "# create two subplots with the shared x and y axes\n",
    "fig, (ax1, ax2) = plt.subplots(1, 2, sharex=True, sharey=True)\n",
    "\n",
    "price_min = r[\"close\"].min()\n",
    "\n",
    "ax1.plot(r[\"date\"], r[\"close\"], lw=2)\n",
    "ax2.fill_between(r[\"date\"], price_min, r[\"close\"], alpha=0.7)\n",
    "\n",
    "for ax in ax1, ax2:\n",
    "    ax.grid(True)\n",
    "    ax.label_outer()\n",
    "\n",
    "ax1.set_ylabel(\"price\")\n",
    "\n",
    "fig.suptitle(\"Google (GOOG) daily closing price\")\n",
    "fig.autofmt_xdate()"
   ]
  },
  {
   "cell_type": "markdown",
   "metadata": {},
   "source": [
    "## Legend\n",
    "\n",
    "`matplotlib` offers flexibility to make custom legends for our data."
   ]
  },
  {
   "cell_type": "code",
   "execution_count": null,
   "metadata": {},
   "outputs": [],
   "source": [
    "# Legend Demo\n",
    "# https://matplotlib.org/stable/gallery/text_labels_and_annotations/legend_demo.html#sphx-glr-gallery-text-labels-and-annotations-legend-demo-py\n",
    "\n",
    "t1 = np.arange(0.0, 2.0, 0.1)\n",
    "t2 = np.arange(0.0, 2.0, 0.01)\n",
    "\n",
    "fig, ax = plt.subplots()\n",
    "\n",
    "# note that plot returns a list of lines.  The \"l1, = plot\" usage\n",
    "# extracts the first element of the list into l1 using tuple\n",
    "# unpacking.  So l1 is a Line2D instance, not a sequence of lines\n",
    "(l1,) = ax.plot(t2, np.exp(-t2))\n",
    "l2, l3 = ax.plot(t2, np.sin(2 * np.pi * t2), \"--o\", t1, np.log(1 + t1), \".\")\n",
    "(l4,) = ax.plot(t2, np.exp(-t2) * np.sin(2 * np.pi * t2), \"s-.\")\n",
    "\n",
    "ax.legend((l2, l4), (\"oscillatory\", \"damped\"), loc=\"upper left\", shadow=True)\n",
    "ax.set_xlabel(\"time\")\n",
    "ax.set_ylabel(\"volts\")\n",
    "ax.set_title(\"Damped oscillation\")\n",
    "plt.show()"
   ]
  },
  {
   "cell_type": "markdown",
   "metadata": {},
   "source": [
    "## Stock Prices\n",
    "\n",
    "Here we see a more involved example which combines several programming and plotting techniques learned so far."
   ]
  },
  {
   "cell_type": "code",
   "execution_count": null,
   "metadata": {},
   "outputs": [],
   "source": [
    "# Stock Prices\n",
    "# https://matplotlib.org/stable/gallery/showcase/stock_prices.html#sphx-glr-gallery-showcase-stock-prices-py\n",
    "\n",
    "from matplotlib.cbook import get_sample_data\n",
    "import matplotlib.transforms as mtransforms\n",
    "\n",
    "with get_sample_data(\"Stocks.csv\") as file:\n",
    "    stock_data = np.genfromtxt(\n",
    "        file,\n",
    "        delimiter=\",\",\n",
    "        names=True,\n",
    "        dtype=None,\n",
    "        converters={0: lambda x: np.datetime64(x, \"D\")},\n",
    "        skip_header=1,\n",
    "    )\n",
    "\n",
    "fig, ax = plt.subplots(1, 1, figsize=(6, 8), layout=\"constrained\")\n",
    "\n",
    "# These are the colors that will be used in the plot\n",
    "ax.set_prop_cycle(\n",
    "    color=[\n",
    "        \"#1f77b4\",\n",
    "        \"#aec7e8\",\n",
    "        \"#ff7f0e\",\n",
    "        \"#ffbb78\",\n",
    "        \"#2ca02c\",\n",
    "        \"#98df8a\",\n",
    "        \"#d62728\",\n",
    "        \"#ff9896\",\n",
    "        \"#9467bd\",\n",
    "        \"#c5b0d5\",\n",
    "        \"#8c564b\",\n",
    "        \"#c49c94\",\n",
    "        \"#e377c2\",\n",
    "        \"#f7b6d2\",\n",
    "        \"#7f7f7f\",\n",
    "        \"#c7c7c7\",\n",
    "        \"#bcbd22\",\n",
    "        \"#dbdb8d\",\n",
    "        \"#17becf\",\n",
    "        \"#9edae5\",\n",
    "    ]\n",
    ")\n",
    "\n",
    "stocks_name = [\n",
    "    \"IBM\",\n",
    "    \"Apple\",\n",
    "    \"Microsoft\",\n",
    "    \"Xerox\",\n",
    "    \"Amazon\",\n",
    "    \"Dell\",\n",
    "    \"Alphabet\",\n",
    "    \"Adobe\",\n",
    "    \"S&P 500\",\n",
    "    \"NASDAQ\",\n",
    "]\n",
    "stocks_ticker = [\n",
    "    \"IBM\",\n",
    "    \"AAPL\",\n",
    "    \"MSFT\",\n",
    "    \"XRX\",\n",
    "    \"AMZN\",\n",
    "    \"DELL\",\n",
    "    \"GOOGL\",\n",
    "    \"ADBE\",\n",
    "    \"GSPC\",\n",
    "    \"IXIC\",\n",
    "]\n",
    "\n",
    "# Manually adjust the label positions vertically (units are points = 1/72 inch)\n",
    "y_offsets = {k: 0 for k in stocks_ticker}\n",
    "y_offsets[\"IBM\"] = 5\n",
    "y_offsets[\"AAPL\"] = -5\n",
    "y_offsets[\"AMZN\"] = -6\n",
    "\n",
    "for nn, column in enumerate(stocks_ticker):\n",
    "    # Plot each line separately with its own color.\n",
    "    # don't include any data with NaN.\n",
    "    good = np.nonzero(np.isfinite(stock_data[column]))\n",
    "    (line,) = ax.plot(\n",
    "        stock_data[\"Date\"][good], stock_data[column][good], lw=2.5\n",
    "    )\n",
    "\n",
    "    # Add a text label to the right end of every line. Most of the code below\n",
    "    # is adding specific offsets y position because some labels overlapped.\n",
    "    y_pos = stock_data[column][-1]\n",
    "\n",
    "    # Use an offset transform, in points, for any text that needs to be nudged\n",
    "    # up or down.\n",
    "    offset = y_offsets[column] / 72\n",
    "    trans = mtransforms.ScaledTranslation(0, offset, fig.dpi_scale_trans)\n",
    "    trans = ax.transData + trans\n",
    "\n",
    "    # Again, make sure that all labels are large enough to be easily read\n",
    "    # by the viewer.\n",
    "    ax.text(\n",
    "        np.datetime64(\"2022-10-01\"),\n",
    "        y_pos,\n",
    "        stocks_name[nn],\n",
    "        color=line.get_color(),\n",
    "        transform=trans,\n",
    "    )\n",
    "\n",
    "ax.set_xlim(np.datetime64(\"1989-06-01\"), np.datetime64(\"2023-01-01\"))\n",
    "\n",
    "fig.suptitle(\n",
    "    \"Technology company stocks prices dollars (1990-2022)\", ha=\"center\"\n",
    ")\n",
    "\n",
    "# Remove the plot frame lines. They are unnecessary here.\n",
    "ax.spines[:].set_visible(False)\n",
    "\n",
    "# Ensure that the axis ticks only show up on the bottom and left of the plot.\n",
    "# Ticks on the right and top of the plot are generally unnecessary.\n",
    "ax.xaxis.tick_bottom()\n",
    "ax.yaxis.tick_left()\n",
    "ax.set_yscale(\"log\")\n",
    "\n",
    "# Provide tick lines across the plot to help your viewers trace along\n",
    "# the axis ticks. Make sure that the lines are light and small so they\n",
    "# don't obscure the primary data lines.\n",
    "ax.grid(True, \"major\", \"both\", ls=\"--\", lw=0.5, c=\"k\", alpha=0.3)\n",
    "\n",
    "# Remove the tick marks; they are unnecessary with the tick lines we just\n",
    "# plotted. Make sure your axis ticks are large enough to be easily read.\n",
    "# You don't want your viewers squinting to read your plot.\n",
    "ax.tick_params(\n",
    "    axis=\"both\",\n",
    "    which=\"both\",\n",
    "    labelsize=\"large\",\n",
    "    bottom=False,\n",
    "    top=False,\n",
    "    labelbottom=True,\n",
    "    left=False,\n",
    "    right=False,\n",
    "    labelleft=True,\n",
    ")\n",
    "\n",
    "# Finally, save the figure as a PNG.\n",
    "# You can also save it as a PDF, JPEG, etc.\n",
    "# Just change the file extension in this call.\n",
    "# fig.savefig('stock-prices.png', bbox_inches='tight')\n",
    "plt.show()"
   ]
  },
  {
   "cell_type": "markdown",
   "metadata": {},
   "source": [
    "## Plot the Iris Dataset\n",
    "\n",
    "Here we use `matplotlib` directly to inspect the Iris dataset."
   ]
  },
  {
   "cell_type": "code",
   "execution_count": null,
   "metadata": {},
   "outputs": [],
   "source": [
    "import pandas as pd\n",
    "\n",
    "iris_df = pd.read_csv(\"./data/iris.csv\")\n",
    "\n",
    "iris_df"
   ]
  },
  {
   "cell_type": "code",
   "execution_count": null,
   "metadata": {},
   "outputs": [],
   "source": [
    "fig, ax = plt.subplots(2, 2, figsize=(8, 8))\n",
    "legend_list = []\n",
    "for species_name in iris_df[\"species\"].unique():\n",
    "    species_mask = iris_df[\"species\"] == species_name\n",
    "    species_df = iris_df[species_mask]\n",
    "    ax[0, 0].hist(species_df[\"sepal_length\"])\n",
    "    ax[0, 1].hist(species_df[\"sepal_width\"])\n",
    "    ax[1, 0].hist(species_df[\"petal_length\"])\n",
    "    ax[1, 1].hist(species_df[\"petal_width\"])\n",
    "    ax[0, 0].set_title(\"Sepal Length\")\n",
    "    ax[0, 1].set_title(\"Sepal Width\")\n",
    "    ax[1, 0].set_title(\"Petal Length\")\n",
    "    ax[1, 1].set_title(\"Petal Width\")\n",
    "    legend_list.append(species_name)\n",
    "\n",
    "fig.legend(legend_list)\n",
    "fig.suptitle(\"Iris Features\")"
   ]
  },
  {
   "cell_type": "code",
   "execution_count": null,
   "metadata": {},
   "outputs": [],
   "source": []
  }
 ],
 "metadata": {
  "kernelspec": {
   "display_name": "Python 3",
   "language": "python",
   "name": "python3"
  },
  "language_info": {
   "codemirror_mode": {
    "name": "ipython",
    "version": 3
   },
   "file_extension": ".py",
   "mimetype": "text/x-python",
   "name": "python",
   "nbconvert_exporter": "python",
   "pygments_lexer": "ipython3",
   "version": "3.12.1"
  }
 },
 "nbformat": 4,
 "nbformat_minor": 2
}
