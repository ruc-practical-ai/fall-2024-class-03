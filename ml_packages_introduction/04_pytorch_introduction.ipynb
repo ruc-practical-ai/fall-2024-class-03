{
 "cells": [
  {
   "cell_type": "code",
   "execution_count": 1,
   "metadata": {},
   "outputs": [
    {
     "data": {
      "text/plain": [
       "<torch._C.Generator at 0x7f1d74080d90>"
      ]
     },
     "execution_count": 1,
     "metadata": {},
     "output_type": "execute_result"
    }
   ],
   "source": [
    "%load_ext autoreload\n",
    "%autoreload 2\n",
    "\n",
    "import numpy as np\n",
    "import torch\n",
    "import torch.nn as nn\n",
    "import torch.optim as optim\n",
    "\n",
    "torch.manual_seed(1)"
   ]
  },
  {
   "cell_type": "code",
   "execution_count": 2,
   "metadata": {},
   "outputs": [],
   "source": [
    "class XORDemoNet(nn.Module):\n",
    "    def __init__(self):\n",
    "        super(XORDemoNet, self).__init__()\n",
    "        self.lin1 = nn.Linear(2, 2)\n",
    "        self.lin2 = nn.Linear(2, 1)\n",
    "\n",
    "        for layer in self.children():\n",
    "            if isinstance(layer, nn.Linear):\n",
    "                nn.init.normal_(layer.weight, mean=0.0, std=0.05)\n",
    "\n",
    "    def forward(self, x):\n",
    "        x = self.lin1(x)\n",
    "        x = torch.sigmoid(x)\n",
    "        x = self.lin2(x)\n",
    "        x = torch.sigmoid(x)\n",
    "        return x"
   ]
  },
  {
   "cell_type": "code",
   "execution_count": 3,
   "metadata": {},
   "outputs": [],
   "source": [
    "# Get the simplest possible dataset for machine learning!\n",
    "features_x_array = np.array([[0, 0], [0, 1], [1, 0], [1, 1]])\n",
    "target_output_y_array = np.array([[0], [1], [1], [0]])\n",
    "\n",
    "# Convert to a torch tensor\n",
    "features_x_tensor = torch.tensor(features_x_array, dtype=torch.float32)\n",
    "target_output_y_tensor = torch.tensor(\n",
    "    target_output_y_array, dtype=torch.float32\n",
    ")"
   ]
  },
  {
   "cell_type": "code",
   "execution_count": 4,
   "metadata": {},
   "outputs": [],
   "source": [
    "# Set device\n",
    "device = torch.device(\"cuda\" if torch.cuda.is_available() else \"cpu\")\n",
    "\n",
    "# Set parameters\n",
    "learning_rate = 0.05\n",
    "\n",
    "# Initialize the network\n",
    "model = XORDemoNet().to(device)\n",
    "criterion = nn.MSELoss()\n",
    "optimizer = optim.Adam(model.parameters(), lr=learning_rate)"
   ]
  },
  {
   "cell_type": "code",
   "execution_count": 5,
   "metadata": {},
   "outputs": [
    {
     "data": {
      "text/plain": [
       "tensor([[0.5271],\n",
       "        [0.5271],\n",
       "        [0.5271],\n",
       "        [0.5271]], grad_fn=<SigmoidBackward0>)"
      ]
     },
     "execution_count": 5,
     "metadata": {},
     "output_type": "execute_result"
    }
   ],
   "source": [
    "model(features_x_tensor)"
   ]
  },
  {
   "cell_type": "code",
   "execution_count": 6,
   "metadata": {},
   "outputs": [
    {
     "name": "stdout",
     "output_type": "stream",
     "text": [
      "Epoch [10/500], Loss: 0.2501\n",
      "Epoch [20/500], Loss: 0.2487\n",
      "Epoch [30/500], Loss: 0.2419\n",
      "Epoch [40/500], Loss: 0.2254\n",
      "Epoch [50/500], Loss: 0.2009\n",
      "Epoch [60/500], Loss: 0.1670\n",
      "Epoch [70/500], Loss: 0.1222\n",
      "Epoch [80/500], Loss: 0.0776\n",
      "Epoch [90/500], Loss: 0.0454\n",
      "Epoch [100/500], Loss: 0.0271\n",
      "Epoch [110/500], Loss: 0.0176\n",
      "Epoch [120/500], Loss: 0.0126\n",
      "Epoch [130/500], Loss: 0.0096\n",
      "Epoch [140/500], Loss: 0.0078\n",
      "Epoch [150/500], Loss: 0.0065\n",
      "Epoch [160/500], Loss: 0.0056\n",
      "Epoch [170/500], Loss: 0.0049\n",
      "Epoch [180/500], Loss: 0.0043\n",
      "Epoch [190/500], Loss: 0.0038\n",
      "Epoch [200/500], Loss: 0.0034\n",
      "Epoch [210/500], Loss: 0.0031\n",
      "Epoch [220/500], Loss: 0.0029\n",
      "Epoch [230/500], Loss: 0.0026\n",
      "Epoch [240/500], Loss: 0.0024\n",
      "Epoch [250/500], Loss: 0.0022\n",
      "Epoch [260/500], Loss: 0.0021\n",
      "Epoch [270/500], Loss: 0.0019\n",
      "Epoch [280/500], Loss: 0.0018\n",
      "Epoch [290/500], Loss: 0.0017\n",
      "Epoch [300/500], Loss: 0.0016\n",
      "Epoch [310/500], Loss: 0.0015\n",
      "Epoch [320/500], Loss: 0.0014\n",
      "Epoch [330/500], Loss: 0.0014\n",
      "Epoch [340/500], Loss: 0.0013\n",
      "Epoch [350/500], Loss: 0.0012\n",
      "Epoch [360/500], Loss: 0.0012\n",
      "Epoch [370/500], Loss: 0.0011\n",
      "Epoch [380/500], Loss: 0.0011\n",
      "Epoch [390/500], Loss: 0.0010\n",
      "Epoch [400/500], Loss: 0.0010\n",
      "Epoch [410/500], Loss: 0.0009\n",
      "Epoch [420/500], Loss: 0.0009\n",
      "Epoch [430/500], Loss: 0.0009\n",
      "Epoch [440/500], Loss: 0.0008\n",
      "Epoch [450/500], Loss: 0.0008\n",
      "Epoch [460/500], Loss: 0.0008\n",
      "Epoch [470/500], Loss: 0.0007\n",
      "Epoch [480/500], Loss: 0.0007\n",
      "Epoch [490/500], Loss: 0.0007\n",
      "Epoch [500/500], Loss: 0.0007\n",
      "tensor([[0.0236],\n",
      "        [0.9751],\n",
      "        [0.9747],\n",
      "        [0.0284]])\n"
     ]
    }
   ],
   "source": [
    "number_of_epochs = 500\n",
    "\n",
    "for epoch in range(number_of_epochs):\n",
    "    optimizer.zero_grad()\n",
    "    output = model(features_x_tensor)\n",
    "    loss = criterion(output, target_output_y_tensor)\n",
    "    loss.backward()\n",
    "    optimizer.step()\n",
    "\n",
    "    if (epoch + 1) % 10 == 0:\n",
    "        print(f\"Epoch [{epoch+1}/{number_of_epochs}], Loss: {loss.item():.4f}\")\n",
    "\n",
    "model_params = list(model.parameters())\n",
    "model_weights = model_params[0].data.numpy()\n",
    "model_bias = model_params[1].data.numpy()\n",
    "\n",
    "with torch.no_grad():\n",
    "    y_predicted = model(features_x_tensor)\n",
    "    print(y_predicted)"
   ]
  },
  {
   "cell_type": "code",
   "execution_count": 7,
   "metadata": {},
   "outputs": [
    {
     "data": {
      "image/png": "[encoded data removed]",
      "text/plain": [
       "<Figure size 800x600 with 2 Axes>"
      ]
     },
     "metadata": {},
     "output_type": "display_data"
    }
   ],
   "source": [
    "from data_visualizers import plot_2d_decision_surface_and_features\n",
    "\n",
    "forward = (\n",
    "    lambda x: model.forward(torch.tensor(x, dtype=torch.float32))\n",
    "    .detach()\n",
    "    .numpy()\n",
    ")\n",
    "\n",
    "y_predicted = model.forward(features_x_tensor)\n",
    "plot_2d_decision_surface_and_features(\n",
    "    x_features=features_x_array,\n",
    "    y_labels=y_predicted.detach().numpy(),\n",
    "    x_range=(-2, 2),\n",
    "    y_range=(-2, 2),\n",
    "    n_grid_points=25,\n",
    "    plot_function=forward,\n",
    ")"
   ]
  },
  {
   "cell_type": "code",
   "execution_count": null,
   "metadata": {},
   "outputs": [],
   "source": []
  }
 ],
 "metadata": {
  "kernelspec": {
   "display_name": "Python 3",
   "language": "python",
   "name": "python3"
  },
  "language_info": {
   "codemirror_mode": {
    "name": "ipython",
    "version": 3
   },
   "file_extension": ".py",
   "mimetype": "text/x-python",
   "name": "python",
   "nbconvert_exporter": "python",
   "pygments_lexer": "ipython3",
   "version": "3.12.1"
  }
 },
 "nbformat": 4,
 "nbformat_minor": 2
}
