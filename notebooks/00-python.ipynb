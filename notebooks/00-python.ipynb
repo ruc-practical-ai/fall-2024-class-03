{
 "cells": [
  {
   "cell_type": "markdown",
   "id": "d9c74ee4-a4b3-46ad-9554-da646c85624c",
   "metadata": {},
   "source": [
    "# Introduction to Python\n",
    "\n",
    "Here we provide a brief introduction to Python. Python will be the language we use most in Practical AI, with some C++ for some exercises.\n",
    "\n",
    "If you already work in Python, this will be a basic review. If you are coming from another language or scientific computing environment (e.g., MATLAB or R) then this tutorial will help ease the migration to Python syntax and language idioms.\n"
   ]
  },
  {
   "cell_type": "markdown",
   "id": "0698ee83-7fde-4dfc-abdc-a4f09a9945b2",
   "metadata": {},
   "source": [
    "<a id='what-is-python'></a>\n",
    "## What is Python\n",
    "\n",
    "Python is a high level programming language that is highly accessible to new and experienced software developers. Advantages of Python include:\n",
    "\n",
    "* easy to write\n",
    "* highly extensible\n",
    "* highly portable\n",
    "\n",
    "These aspects of Python make it great for data scientists who may be less versed in coding. Python however is *slow* and is not suitable for the development of safety or life critical systems. For example, using Python to develop code that runs inside a car (such as power steering and brake control systems) is illegal! This is not only driven by the speed of Python, but also driven by the way Python handles typing, memory allocation, dependency management, and the fact that it is an interpreted language instead of a compiled language. We will talk about these issues more later on when we discuss why we don't usually deploy AI systems in Python for critical applications, even if it is easy to design them in Python.\n",
    "\n",
    "Fortunately, in many cases the slowness of Python does not negate its benefits for non-real-time and non-safety-critical / non-mission critical applications. There have also been many pursuits to improve the performance of Python, including many *packages* for Python geared for high performance computing. Some of these packages are:\n",
    "\n",
    "* `numpy`\n",
    "* `numba`\n",
    "* `dask`\n",
    "\n",
    "These can help us write Python code that runs faster and better exploits the resources of our hardware, but it is very important to note that they do not address all the issues of employing Python for critical applications. So, even with these libraries and improvements that have been made to the Python language, we still opt to use (and sometimes are mandated to use per regulations) other languages for critical applications.\n",
    "\n",
    "We will learn about all these considerations soon. Python is an imperfect language, but it has a tremendously large community behind it, and the many years surrounding Python development have enabled the language to effectively be able to do *anything* (even if not entirely well!). As a programming language, there are rules and expected syntax that must be followed. Breaking these rules results in code that does not work, and most of the time results in a critical error. The goal of this lesson is simply to provide a feel for the syntax of Python and help those who may be migrating from other languages and environments."
   ]
  },
  {
   "cell_type": "markdown",
   "id": "5d451b53-7157-4a73-836b-796d4dba5c25",
   "metadata": {},
   "source": [
    "<a id='jupyter'></a>\n",
    "### Jupyter\n",
    "\n",
    "Python and the packages we will use provide many tools for designing and building robust machine learning pipelines, including exploring data, transforming data, engineering features, training models, testing models, explaining the outputs produced by models, optimizing the performance of models and exporting them to standard formats.\n",
    "\n",
    "*Jupyter* - which is this tool that we are using right now - allows us to combine code, results, and explanation all in one document. These documents are called *notebooks* and they allow us to write both *markdown* and *Python* side by side. The Python code can be interactively executed in a *kernel*. This means that the code is actually executed on some computer (locally or remotely), and that computer sends the results back to Jupyter. Notebooks are comprised of *cells*. You can execute cells in any order, and re-execute them as many times as you like!\n"
   ]
  },
  {
   "cell_type": "markdown",
   "id": "ec8f6166-0469-4a8b-99bc-c3adfb731d16",
   "metadata": {},
   "source": [
    "<a id='variables-and-primitives'></a>\n",
    "## Variables & Primitives\n",
    "\n",
    "Variables are named objects in our code that hold onto data. There are many *types* of variables. A *type* refers to the kind of data a variable represents and what we can do with it. The four basic (*primitive*) types in Python are:\n",
    "\n",
    "* boolean (`bool`)\n",
    "* integer (`int`)\n",
    "* floating point number (`float`)\n",
    "* string (`str`)\n",
    "\n",
    "A boolean is a type that can only have one of two values: `True` or `False`. These are *logical* values to be used when computing if something is actually true or false.\n",
    "\n",
    "An integer is any number without a decimal.\n",
    "\n",
    "A floating point number is any number with a decimal.\n",
    "\n",
    "A string is a sequence of characters. Here are a few examples:"
   ]
  },
  {
   "cell_type": "code",
   "execution_count": null,
   "id": "af3bcf5e-703f-4329-b776-e4a03f22f742",
   "metadata": {},
   "outputs": [],
   "source": [
    "True"
   ]
  },
  {
   "cell_type": "code",
   "execution_count": null,
   "id": "0deec6f4-6da9-4350-b492-d74b947aefde",
   "metadata": {},
   "outputs": [],
   "source": [
    "1337"
   ]
  },
  {
   "cell_type": "code",
   "execution_count": null,
   "id": "c1609607-0f99-47d9-bd33-58f2c24fd2fe",
   "metadata": {},
   "outputs": [],
   "source": [
    "3.141592653589"
   ]
  },
  {
   "cell_type": "code",
   "execution_count": null,
   "id": "3e0e7f2c-a8f0-43da-9863-ad89ad523405",
   "metadata": {},
   "outputs": [],
   "source": [
    "\"Hello World!\""
   ]
  },
  {
   "cell_type": "markdown",
   "id": "375f4627-c8de-48cb-90c2-cdde22301273",
   "metadata": {},
   "source": [
    "Each of these types of data can be used in specific contexts; these are usually intuitive and familiar already."
   ]
  },
  {
   "cell_type": "code",
   "execution_count": null,
   "id": "19ba3140-f6ae-4b91-80d7-0eb3bcf352d4",
   "metadata": {},
   "outputs": [],
   "source": [
    "True and False"
   ]
  },
  {
   "cell_type": "code",
   "execution_count": null,
   "id": "ce5d3152-bebb-4c88-8370-5be6bea07095",
   "metadata": {},
   "outputs": [],
   "source": [
    "1337 // 7"
   ]
  },
  {
   "cell_type": "markdown",
   "id": "1d92d826-cdf0-4db2-a6e6-688367baf767",
   "metadata": {},
   "source": [
    "3.141592653589 * 2.0 * 2.0"
   ]
  },
  {
   "cell_type": "markdown",
   "id": "6e6927c9-3310-4bec-a420-1307c72d7bec",
   "metadata": {},
   "source": [
    "Everything above here though are just data, not variables! We can *assign* a variable a value."
   ]
  },
  {
   "cell_type": "code",
   "execution_count": null,
   "id": "6e356664-c50f-4970-a776-8c2a5ebf96ba",
   "metadata": {},
   "outputs": [],
   "source": [
    "b = True\n",
    "i = 1337\n",
    "f = 3.141592653589\n",
    "s = \"Hello\"\n",
    "print(b, i, f, s)"
   ]
  },
  {
   "cell_type": "code",
   "execution_count": null,
   "id": "582cdeea-e6b0-46b7-a676-0a1f1ad862bb",
   "metadata": {},
   "outputs": [],
   "source": [
    "bb = b or False\n",
    "ii = i // 191\n",
    "ff = f + 0.858407346411\n",
    "ss = s + \" World!\"\n",
    "print(bb, ii, ff, ss)"
   ]
  },
  {
   "cell_type": "markdown",
   "id": "e98e1a9b-7db3-434c-a784-4fae13dc356a",
   "metadata": {},
   "source": [
    "We can use our variables in *expressions* and use operators to perform actions with them. With booleans we can evaluate logical statements; with integers and floating point numbers we can perform arithmetic; and with strings we can perform concatenations and other string manipulations. By convention, we use descriptive variable names to explain to the readers of our code what our variables mean."
   ]
  },
  {
   "cell_type": "code",
   "execution_count": null,
   "id": "fa640bb4-3d8d-44fa-a009-495d79774ad7",
   "metadata": {},
   "outputs": [],
   "source": [
    "d = 8.2387  # bad\n",
    "distance = 8.2387  # better\n",
    "distance_m = 8.2387  # best!\n",
    "distance_m"
   ]
  },
  {
   "cell_type": "markdown",
   "id": "5d7175fb-44d2-41c9-8def-b51ff503429b",
   "metadata": {},
   "source": [
    "It is important that we choose variable names that are descriptive and make sense. In the above example, `d` is probably ok for representing distance, but perhaps `d` means something different to someone else. In this case `d` is not descriptive enough. So you may change it and use `distance`. This is much better, as it is clear that you are intending to represent a distance. But at what scale ar we talking about? A distance can be micro or macro in scale. We can just name our variable with the intended units to help guide the reader. Therefore, naming a variable for distance as `distance_m` indicates to the reader that the variable is a distance *and* its value is in meters.\n",
    "\n",
    "Note that it is very possible to use variables in an incorrect way. Consider trying to add an integer and a string:"
   ]
  },
  {
   "cell_type": "code",
   "execution_count": null,
   "id": "f6ed7fcf-eb9c-478d-995f-a0e64c9b6086",
   "metadata": {},
   "outputs": [],
   "source": [
    "distance_string_km = distance_m / 1000.0 + \"km\""
   ]
  },
  {
   "cell_type": "markdown",
   "id": "008d897c-ca94-4306-bc2a-6565d17be0ec",
   "metadata": {},
   "source": [
    "This operation is not allowed - while `distance_m / 1000.0` is totally valid and results in another float, we try to add a string to that new float. What would it even mean to add a float and a string? Python prevents this from happening and instead returns an *error* explaining what went wrong. Note here that because of the error, `distance_string_km` is never created!\n",
    "\n",
    "Note that because Python is a \"duck typed\" language, variables can hold whatever type of data we assign to them. The variables will take on the types of data that is assigned. (The origin of the nomenclature \"duck typed\" is the saying \"if it looks like a duck and quacks like a duck then it must be a duck.\") This makes Python easy to program in since we do not necessarily have to keep track of variable types. However, it can also lead to confusing and hard to read code where a variable takes on one type at one time and a different type at another time based on the type of data written to it if we are not careful. Tools like `mypy` can help us with this, and we will review these later."
   ]
  },
  {
   "cell_type": "code",
   "execution_count": null,
   "id": "f07c7298-2681-4e08-830b-e75183f713d7",
   "metadata": {},
   "outputs": [],
   "source": [
    "distance_string_km"
   ]
  },
  {
   "cell_type": "markdown",
   "id": "63214c57-19fc-436f-b432-76ba94bc4d2a",
   "metadata": {},
   "source": [
    "<a id='function-basics'></a>\n",
    "## Function Basics\n",
    "\n",
    "As expected we can also define *functions*. Functions are pieces of code that we can invoke to perform some defined set of actions. Functions can take in *arguments* (e.g. inputs) and can return data (e.g. outputs). Every function is defined using the following format:\n",
    "\n",
    "```python\n",
    "def function_name(a, b):\n",
    "    # do stuff\n",
    "```\n",
    "\n",
    "Maybe we have a function that converts an input float to Celsius!"
   ]
  },
  {
   "cell_type": "code",
   "execution_count": 12,
   "id": "0cccb377-2113-4418-932c-49e4fcfd342f",
   "metadata": {},
   "outputs": [],
   "source": [
    "def fahrenheit_to_celsius(temp_f):\n",
    "    temp_c = (temp_f - 32.0) * 5.0 / 9.0\n",
    "    return temp_c"
   ]
  },
  {
   "cell_type": "markdown",
   "id": "a8cb8e7f-5ef1-4c83-815e-d569f3b66ae3",
   "metadata": {},
   "source": [
    "This is only a *definition*. We need to *call* the function to use it."
   ]
  },
  {
   "cell_type": "code",
   "execution_count": null,
   "id": "03344316-eaa1-4b1d-b210-656482b94e21",
   "metadata": {},
   "outputs": [],
   "source": [
    "fahrenheit_to_celsius(212.0)"
   ]
  },
  {
   "cell_type": "markdown",
   "id": "39c265a5-20fd-4d57-a6be-8bcd182e2e62",
   "metadata": {},
   "source": [
    "Functions can take 0, 1 or many arguments. They do not need to return anything, can return 0, 1, or many things at once! Consider the following function that takes in a speed and a time and computes the distance traveled:"
   ]
  },
  {
   "cell_type": "code",
   "execution_count": null,
   "id": "a2bb1509-0b9c-4f5e-a090-41f9475bdbea",
   "metadata": {},
   "outputs": [],
   "source": [
    "def compute_distance_m(speed_mps, time_s):\n",
    "    distance_m = speed_mps * time_s\n",
    "    return distance_m\n",
    "\n",
    "\n",
    "compute_distance_m(100.0, 2.0)"
   ]
  },
  {
   "cell_type": "markdown",
   "id": "14f49894-69c1-427b-a553-a4a667a87ff9",
   "metadata": {},
   "source": [
    "While this function is trivial, it is clear from the *function name* what this function is doing. As you may suspect, this is nothing stopping someone from using this function incorrectly. Someone might try to use a string here..."
   ]
  },
  {
   "cell_type": "code",
   "execution_count": null,
   "id": "4e96dea1-a47e-4ea4-a02a-dd196e69334c",
   "metadata": {},
   "outputs": [],
   "source": [
    "compute_distance_m(\"100.0 m/s\", 10.0)"
   ]
  },
  {
   "cell_type": "markdown",
   "id": "7bc6441d-44a7-4ee1-8692-38d08fd404e2",
   "metadata": {},
   "source": [
    "We can add *type hints* to hint to the coder how they should try to use a function. Let's rewrite our function above with type hints."
   ]
  },
  {
   "cell_type": "code",
   "execution_count": null,
   "id": "7b653930-5b78-44ca-8d03-7d38018c7908",
   "metadata": {},
   "outputs": [],
   "source": [
    "def compute_distance_m(speed_mps: float, time_s: float) -> float:\n",
    "    distance_m = speed_mps * time_s\n",
    "    return distance_m\n",
    "\n",
    "\n",
    "compute_distance_m(100.0, 2.0)"
   ]
  },
  {
   "cell_type": "markdown",
   "id": "f4402c26-b3f4-4a21-8eae-7aede09caae1",
   "metadata": {},
   "source": [
    "Above we have just added *hints* to the function that state that the input variables are each a float, and that the function returns a float. **Note that this still does not prevent someone from using the function incorrectly.** Note that below we are passing a bool instead of a float, *and it works*. Bool values can be used in arithmetic expressions, and so the function code could be executed perfectly fine. The type hints are simply hints, not hard rules. This means that anyone is free to ignore them! When we review `mypy` later, we will see how we can add automatic type hint checking to our projects."
   ]
  },
  {
   "cell_type": "code",
   "execution_count": null,
   "id": "01630dd0-0a0d-4093-a71e-7717ed12679e",
   "metadata": {},
   "outputs": [],
   "source": [
    "compute_distance_m(True, 10.0)"
   ]
  },
  {
   "cell_type": "markdown",
   "id": "aef16b61-03ce-4f47-a8d2-4b8449f216a8",
   "metadata": {},
   "source": [
    "We can also define functions with *default values* so that additional flexibility can be given to those that need it, but is otherwise hidden from the users that do not need it!"
   ]
  },
  {
   "cell_type": "code",
   "execution_count": null,
   "id": "c2e010e0-9bca-47f6-b785-c600ccfd6db5",
   "metadata": {},
   "outputs": [],
   "source": [
    "def compute_position_m(\n",
    "    speed_mps: float, time_s: float, starting_position_m: float = 0.0\n",
    "):\n",
    "    position_m = starting_position_m + speed_mps * time_s\n",
    "    return position_m\n",
    "\n",
    "\n",
    "compute_position_m(100.0, 2.0)"
   ]
  },
  {
   "cell_type": "code",
   "execution_count": null,
   "id": "ae0dac24-2adc-421e-aa33-68b092874806",
   "metadata": {},
   "outputs": [],
   "source": [
    "compute_position_m(100.0, 2.0, 300.0)"
   ]
  },
  {
   "cell_type": "markdown",
   "id": "dda28920-b80c-4116-9836-4343b8d27796",
   "metadata": {},
   "source": [
    "We can *omit* the final input to the function, because it is given a default value of *0.0* when one is not supplied. We can use this to great effect for creating configurable functions!"
   ]
  },
  {
   "cell_type": "markdown",
   "id": "8ff93060-d1af-4d6c-a877-dda302fc64fd",
   "metadata": {},
   "source": [
    "<a id='conditional-statements'></a>\n",
    "### Conditional Statements\n",
    "\n",
    "Python also provides the typical control flow mechanisms - let's start with conditional statements. In a conditional statement, we are checking if some value is logically true or false (using boolean algebra). If the statement is true, then we proceed to execute the code contained by the conditional statement; otherwise if the value is false then we do nothing. Simple conditional statements are of the form:\n",
    "\n",
    "```python\n",
    "if statement:\n",
    "    # do stuff\n",
    "```\n",
    "\n",
    "In this simple setup if `statement` is `True` then we proceed to \"do stuff\". Otherwise we would do nothing! Here `statement` is a bool - `True` or `False`. We can generate boolean values from other data by using *comparisons*. Comparisons simply check how one value compares to another. We can check if two values are equal, or if one is greater than another. We have a number of operators for comparing values.\n",
    "\n",
    "* `==` - checks if two values are equal\n",
    "* `!=` - checks if two values are not equal\n",
    "* `>` - checks if one value is greater than the other\n",
    "* `>=` - checks if one value is greater than or equal to the other\n",
    "* `<` - checks if one value is lesser than the other\n",
    "* `<=` - checks if one value is lesser than or equal to the other\n",
    "\n",
    "We can even perform compound conditions using `and` and `or` keywords.\n",
    "\n",
    "Here are a few examples:\n",
    "\n",
    "```python\n",
    "1 == 2              # False\n",
    "'hello' != 'world'  # True\n",
    "5 <= x <= 10        # depends on what x is!\n",
    "0.0 > 0.0           # False\n",
    "```\n",
    "\n",
    "Let's generate a random integer inclusively between 1 and 6 (like rolling a die) and check if the value if equal to 6. Let's try running it a few times!"
   ]
  },
  {
   "cell_type": "code",
   "execution_count": 43,
   "id": "51fbdc37-db19-49fe-a3e3-b08d7fa9bf5c",
   "metadata": {},
   "outputs": [],
   "source": [
    "import random\n",
    "\n",
    "x = random.randint(1, 6)\n",
    "if x == 6:\n",
    "    print(\"Woo!\")"
   ]
  },
  {
   "cell_type": "markdown",
   "id": "be270eb2-6bae-415d-9d32-775ebda24683",
   "metadata": {},
   "source": [
    "In the code above, we are checking if a random integer between 1 and 6 is equal to 6. Other than the import and randomness shown, there are a few things to point out.\n",
    "\n",
    "```python\n",
    "if x == 6:\n",
    "```\n",
    "\n",
    "This is the conditional statement. We are using the equality operation `==` to check if `x` is equal to the value `6`. This operation returns a bool, either `True` or `False`. If the value of that bool is `True` then the *body* of the conditional statement is executed. Here the body is\n",
    "\n",
    "```python\n",
    "    print('Woo!')\n",
    "```\n",
    "\n",
    "This just prints the string `'Woo!'`, but only if `x` has a value of `6`.\n",
    "\n",
    "We can also check multiple different conditions to set up if-else sort of logic. The Python keywords `elif` and `else` allow us to check if other conditions are true if some other condition(s) is false."
   ]
  },
  {
   "cell_type": "code",
   "execution_count": null,
   "id": "d47d9541-ab39-403c-a0b3-bea624b891a3",
   "metadata": {},
   "outputs": [],
   "source": [
    "x = random.randint(1, 6)\n",
    "y = random.randint(1, 6)\n",
    "if x == y:\n",
    "    print(f\"double {x}s\")\n",
    "else:\n",
    "    print(\"try again!\")"
   ]
  },
  {
   "cell_type": "code",
   "execution_count": null,
   "id": "da57ca30-a78e-49b6-aa71-dba83ec222d0",
   "metadata": {},
   "outputs": [],
   "source": [
    "x = random.randint(1, 6)\n",
    "y = random.randint(1, 6)\n",
    "if x > y:\n",
    "    z = 1\n",
    "elif y > x:\n",
    "    z = 2\n",
    "else:\n",
    "    z = 3\n",
    "(x, y, z)"
   ]
  }
 ],
 "metadata": {
  "kernelspec": {
   "display_name": "Python 3 (ipykernel)",
   "language": "python",
   "name": "python3"
  },
  "language_info": {
   "codemirror_mode": {
    "name": "ipython",
    "version": 3
   },
   "file_extension": ".py",
   "mimetype": "text/x-python",
   "name": "python",
   "nbconvert_exporter": "python",
   "pygments_lexer": "ipython3",
   "version": "3.12.1"
  }
 },
 "nbformat": 4,
 "nbformat_minor": 5
}
