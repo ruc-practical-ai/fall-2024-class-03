{
 "cells": [
  {
   "cell_type": "markdown",
   "metadata": {},
   "source": [
    "## Lambdas\n",
    "\n",
    "A simple look at lambdas and how we can use them with sorting and funding vales in lists"
   ]
  },
  {
   "cell_type": "code",
   "execution_count": 1,
   "metadata": {},
   "outputs": [],
   "source": [
    "# Here we start off with a list of characters from the office\n",
    "\n",
    "the_office = [\"micheal\", \"dwight\", \"pam\", \"meredith\", \"angela\", \"jim\"]"
   ]
  },
  {
   "cell_type": "code",
   "execution_count": null,
   "metadata": {},
   "outputs": [],
   "source": [
    "# Now we sort them. Notice how they are automatically sorted in alphabetical order\n",
    "\n",
    "sorted(the_office)"
   ]
  },
  {
   "cell_type": "code",
   "execution_count": null,
   "metadata": {},
   "outputs": [],
   "source": [
    "# What if we wanted to sort them by a metric other than alphabetical? How about\n",
    "# sorting by the length of their name? We can provide a key-function to the\n",
    "# sort and sorted functions.\n",
    "#\n",
    "# A key function is a function that takes a single element and transforms it\n",
    "# into another value for making comparisons. Here, we can pass the len function\n",
    "# to get the length of each name, and those lengths are then used for sorting.\n",
    "\n",
    "sorted(the_office, key=len)"
   ]
  },
  {
   "cell_type": "code",
   "execution_count": null,
   "metadata": {},
   "outputs": [],
   "source": [
    "# What if we want to sort by multiple criteria? We want to sort our names not\n",
    "# just by length, but also alphabetically. In this setup we want short names to\n",
    "# come first, and if names have the same length then they should be sorted\n",
    "# alphabetically. We can define our own key-function that returns a tuple.\n",
    "#\n",
    "# A tuple is like a list, but it is unmodifiable (unlike a list). Tuples have\n",
    "# an interesting feature in that when we compare tuples using comparison\n",
    "# operators, the tuples are compared element by element until a comparison\n",
    "# returns true. This means that we can layer sorting criteria by having our key\n",
    "# functions return tuples. The order of the tuple dictates the ordering of the\n",
    "# sorting criteria.\n",
    "#\n",
    "# We can sort by length and then alphabetically by returning a tuple of the\n",
    "# length (the first criteria) followed by the name itself (the second criteria,\n",
    "# which in this case is the natural sorting criteria for strings).\n",
    "\n",
    "\n",
    "def alphabetical_length(name):\n",
    "    length = len(name)\n",
    "    return (length, name)\n",
    "\n",
    "\n",
    "sorted(the_office, key=alphabetical_length)"
   ]
  },
  {
   "cell_type": "code",
   "execution_count": null,
   "metadata": {},
   "outputs": [],
   "source": [
    "# Rather than defining a whole new function, we can define a lambda. A lambda\n",
    "# is a function, just defined slightly differently and much more compactly.\n",
    "# Below is a lambda that is identical to the function we defined above.\n",
    "\n",
    "alphabetical_length = lambda name: (len(name), name)\n",
    "alphabetical_length"
   ]
  },
  {
   "cell_type": "code",
   "execution_count": null,
   "metadata": {},
   "outputs": [],
   "source": [
    "# We use it like a normal function, and here we use it by passing it as the\n",
    "# sorting criteria\n",
    "\n",
    "sorted(the_office, key=alphabetical_length)"
   ]
  },
  {
   "cell_type": "code",
   "execution_count": null,
   "metadata": {},
   "outputs": [],
   "source": [
    "# We can also take the max of the list, and for this string this means\n",
    "# returning pam (because alphabetically pam comes last, which means it is the\n",
    "# greatest value in the list).\n",
    "\n",
    "max(the_office)"
   ]
  },
  {
   "cell_type": "code",
   "execution_count": null,
   "metadata": {},
   "outputs": [],
   "source": [
    "# We can apply the same lambdas as above to find the longest, alphabetically\n",
    "# last value in the list\n",
    "\n",
    "max(the_office, key=lambda name: (len(name), name))"
   ]
  },
  {
   "cell_type": "code",
   "execution_count": null,
   "metadata": {},
   "outputs": [],
   "source": [
    "# Lambdas functions can take an arbitrary number of arguments\n",
    "\n",
    "plus = lambda x, y: x + y\n",
    "plus(1, 3)"
   ]
  },
  {
   "cell_type": "code",
   "execution_count": null,
   "metadata": {},
   "outputs": [],
   "source": [
    "# This is a lambda that takes no arguments\n",
    "\n",
    "hi = lambda: print(\"hello!\")\n",
    "hi()"
   ]
  }
 ],
 "metadata": {
  "kernelspec": {
   "display_name": "Python 3",
   "language": "python",
   "name": "python3"
  },
  "language_info": {
   "codemirror_mode": {
    "name": "ipython",
    "version": 3
   },
   "file_extension": ".py",
   "mimetype": "text/x-python",
   "name": "python",
   "nbconvert_exporter": "python",
   "pygments_lexer": "ipython3",
   "version": "3.12.1"
  },
  "orig_nbformat": 4
 },
 "nbformat": 4,
 "nbformat_minor": 2
}
