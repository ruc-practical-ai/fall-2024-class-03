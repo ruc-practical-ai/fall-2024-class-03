{
 "cells": [
  {
   "cell_type": "markdown",
   "metadata": {},
   "source": [
    "## Lists\n",
    "\n",
    "This notebook shows what lists are and very basically how we can use them."
   ]
  },
  {
   "cell_type": "code",
   "execution_count": null,
   "metadata": {},
   "outputs": [],
   "source": [
    "# Here we are defining a variable with a single value representing a distance.\n",
    "# It may be very common for us to want to define many distances, but defining\n",
    "# a separate variable for every distance we may want is not feasible (especially\n",
    "# if we have many distances) and worse, what if we do not know how many\n",
    "# distances we will need?\n",
    "\n",
    "distance_m = 10\n",
    "distance_m"
   ]
  },
  {
   "cell_type": "code",
   "execution_count": null,
   "metadata": {},
   "outputs": [],
   "source": [
    "# We can turn to defining a list! A list, as the name implies, is a collection\n",
    "# of values. We create a list by surrounding a set of comma delimited elements\n",
    "# by square braces. Below we are defining a variable that is a list of three\n",
    "# elements: 10, 20, and 30.\n",
    "\n",
    "distances_m = [10, 20, 30]\n",
    "distances_m"
   ]
  },
  {
   "cell_type": "code",
   "execution_count": null,
   "metadata": {},
   "outputs": [],
   "source": [
    "# We can access the individual elements of a list using the subscript operator,\n",
    "# represented using square braces. This is called indexing into the list. Inside\n",
    "# of the square braces we write an integer value. This integer represents the\n",
    "# numerical position of the element in the list, with positions starting at 0.\n",
    "# This means that the maximum position in a list is the length of the list minus\n",
    "# 1. for example, we can access the elements of the list using:\n",
    "\n",
    "print(distances_m[0])  # first element\n",
    "print(distances_m[1])  # second element\n",
    "print(distances_m[2])  # third and last element"
   ]
  },
  {
   "cell_type": "code",
   "execution_count": null,
   "metadata": {},
   "outputs": [],
   "source": [
    "# We can also use negative positions to index into a list (still counting form\n",
    "# 0).\n",
    "\n",
    "print(distances_m[-1])  # third and last element\n",
    "print(distances_m[-2])  # second element\n",
    "print(distances_m[-3])  # first element"
   ]
  },
  {
   "cell_type": "code",
   "execution_count": null,
   "metadata": {},
   "outputs": [],
   "source": [
    "# We can create an empty list by simply using empty square braces when defining\n",
    "# the list\n",
    "\n",
    "numbers = []\n",
    "numbers"
   ]
  },
  {
   "cell_type": "code",
   "execution_count": null,
   "metadata": {},
   "outputs": [],
   "source": [
    "# We can add elements to the back of the list using the append function\n",
    "\n",
    "numbers.append(56)\n",
    "numbers"
   ]
  },
  {
   "cell_type": "code",
   "execution_count": null,
   "metadata": {},
   "outputs": [],
   "source": [
    "# We can concatenate two lists using addition - note that this does not perform\n",
    "# element-wise addition!\n",
    "\n",
    "numbers + distances_m"
   ]
  },
  {
   "cell_type": "code",
   "execution_count": null,
   "metadata": {},
   "outputs": [],
   "source": [
    "# Note that the concatenation above did not modify our list. this is because\n",
    "# concatenation creates a new list\n",
    "\n",
    "print(numbers)\n",
    "print(distances_m)"
   ]
  },
  {
   "cell_type": "code",
   "execution_count": null,
   "metadata": {},
   "outputs": [],
   "source": [
    "# If we want to concatenate a list and modify the original, we can use the\n",
    "# extend function\n",
    "\n",
    "numbers.extend(distances_m)\n",
    "numbers"
   ]
  },
  {
   "cell_type": "code",
   "execution_count": null,
   "metadata": {},
   "outputs": [],
   "source": [
    "# When we want to find an element in a list, we use the index function to find\n",
    "# the position of that element in the list. If that element is not in the list\n",
    "# then an error is raised by Python.\n",
    "\n",
    "numbers.index(10)\n",
    "\n",
    "# this returns 1, because 10 is at position 1 (it is the second element of the\n",
    "# list)"
   ]
  },
  {
   "cell_type": "code",
   "execution_count": null,
   "metadata": {},
   "outputs": [],
   "source": [
    "numbers.index(74330)  # error!"
   ]
  },
  {
   "cell_type": "code",
   "execution_count": null,
   "metadata": {},
   "outputs": [],
   "source": [
    "# If we want to check if a value is in a list, without needing its position, we\n",
    "# can use the in-operator. This returns a bool, True or False, indicating if\n",
    "# the value is in the list.\n",
    "\n",
    "30 in numbers  # True, since 30 is in the list"
   ]
  },
  {
   "cell_type": "code",
   "execution_count": null,
   "metadata": {},
   "outputs": [],
   "source": [
    "# We can also remove elements from the list using the remove function. This\n",
    "# will remove the first element encountered that has the specified value. If\n",
    "# that value is not in the list, then an error is raised.\n",
    "\n",
    "numbers.remove(30)\n",
    "numbers"
   ]
  },
  {
   "cell_type": "code",
   "execution_count": null,
   "metadata": {},
   "outputs": [],
   "source": [
    "# Let us reset our list of numbers to a new list\n",
    "\n",
    "numbers = [1, 2, 3, 4]\n",
    "numbers"
   ]
  },
  {
   "cell_type": "code",
   "execution_count": null,
   "metadata": {},
   "outputs": [],
   "source": [
    "# Pop is a function that removes an element from the list and returns it. Below\n",
    "# we are popping off the last element and storing it in a new variable named\n",
    "# last.\n",
    "\n",
    "last = numbers.pop()\n",
    "print(numbers)\n",
    "print(last)"
   ]
  },
  {
   "cell_type": "code",
   "execution_count": null,
   "metadata": {},
   "outputs": [],
   "source": [
    "# The pop function, just like the subscript operator, can take in a position of\n",
    "# an element to pop while providing no element means popping off the last\n",
    "# element. We can pop any element we desire.\n",
    "\n",
    "numbers.pop(0)  # pop the first element"
   ]
  },
  {
   "cell_type": "code",
   "execution_count": null,
   "metadata": {},
   "outputs": [],
   "source": [
    "# We can also use negative indices to pop elements from a list\n",
    "\n",
    "numbers.pop(-1)  # pop the last element"
   ]
  },
  {
   "cell_type": "code",
   "execution_count": null,
   "metadata": {},
   "outputs": [],
   "source": [
    "# We can also sort lists using the sort function. This sorts the list in place\n",
    "# in memory, without making any copies.\n",
    "\n",
    "numbers = [3, 1, 4, 1, 5, 9, 2, 6, 5, 3, 5, 8, 9]\n",
    "numbers.sort()\n",
    "numbers"
   ]
  },
  {
   "cell_type": "code",
   "execution_count": null,
   "metadata": {},
   "outputs": [],
   "source": [
    "# We can also use the sorted function to sort the list and create a copy.\n",
    "\n",
    "numbers = [3, 1, 4, 1, 5, 9, 2, 6, 5, 3, 5, 8, 9]\n",
    "other_numbers = sorted(numbers)\n",
    "other_numbers"
   ]
  },
  {
   "cell_type": "code",
   "execution_count": null,
   "metadata": {},
   "outputs": [],
   "source": [
    "# We can also reverse a list using the reverse function\n",
    "\n",
    "numbers.reverse()\n",
    "numbers"
   ]
  }
 ],
 "metadata": {
  "kernelspec": {
   "display_name": "Python 3",
   "language": "python",
   "name": "python3"
  },
  "language_info": {
   "codemirror_mode": {
    "name": "ipython",
    "version": 3
   },
   "file_extension": ".py",
   "mimetype": "text/x-python",
   "name": "python",
   "nbconvert_exporter": "python",
   "pygments_lexer": "ipython3",
   "version": "3.12.1"
  },
  "orig_nbformat": 4
 },
 "nbformat": 4,
 "nbformat_minor": 2
}
