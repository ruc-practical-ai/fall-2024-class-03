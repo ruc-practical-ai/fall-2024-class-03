{
 "cells": [
  {
   "cell_type": "markdown",
   "metadata": {},
   "source": [
    "## For Loops\n",
    "\n",
    "A simple look at for-loops"
   ]
  },
  {
   "cell_type": "code",
   "execution_count": null,
   "metadata": {},
   "outputs": [],
   "source": [
    "# When dealing with lists, we often want a means to perform some operation on\n",
    "# every element of the list. A for-loop lets us define a piece of code that\n",
    "# will be applied for every element of some list.\n",
    "\n",
    "# Here we have a list of distances, and want to accumulate them into a total\n",
    "# distance. We can naively use a for-loop to visit every distance in the list,\n",
    "# and add its value to a total\n",
    "\n",
    "distances_m = [322.3, 73.1, 9283.301, 6523.03, 123.8]\n",
    "total_distance_m = 0.0\n",
    "for d in distances_m:\n",
    "    total_distance_m += d\n",
    "total_distance_m"
   ]
  },
  {
   "cell_type": "code",
   "execution_count": null,
   "metadata": {},
   "outputs": [],
   "source": [
    "# It is tempting to do this loop below, where we get a range of\n",
    "# positions to loop over. Do not do this in Python. While there are sometimes\n",
    "# reasons to do this, you should generally avoid it in Python. Even though this\n",
    "# example is simple, in real-world code writing loops like this can make code\n",
    "# very difficult to maintain!\n",
    "\n",
    "total_distance_m = 0.0\n",
    "for i in range(len(distances_m)):\n",
    "    total_distance_m += distances_m[i]\n",
    "total_distance_m"
   ]
  },
  {
   "cell_type": "code",
   "execution_count": null,
   "metadata": {},
   "outputs": [],
   "source": [
    "# We can and should just use the sum function instead to sum a list\n",
    "\n",
    "sum(distances_m)"
   ]
  },
  {
   "cell_type": "code",
   "execution_count": null,
   "metadata": {},
   "outputs": [],
   "source": [
    "# We can also take slices of a list using slice notation. Sliding selects\n",
    "# the elements of the partially open range [A,B), where A is the inclusive\n",
    "# starting position and B is the excluded end position. Here we are selecting\n",
    "# the range of elements from 0 to 3 (excluding 3). This allows us to select\n",
    "# a subset of our list elements.\n",
    "\n",
    "total_distance_m = 0.0\n",
    "for d in distances_m[0:3]:\n",
    "    total_distance_m += d\n",
    "total_distance_m"
   ]
  },
  {
   "cell_type": "code",
   "execution_count": null,
   "metadata": {},
   "outputs": [],
   "source": [
    "# Often times we will want to transform one list into another list. We can\n",
    "# do this using a list-comprehension. This is a compact way of expressing the\n",
    "# creation of a list using a for-loop in Python. Below we have a list of names\n",
    "# and we want to capitalize the first letter of each string. Strings have a\n",
    "# title function that we can call to return a new string with the first letter\n",
    "# of each word capitalized. Inside of a set of square braces we can write a\n",
    "# simple for-loop as such.\n",
    "\n",
    "fruits = [\"apples\", \"bananas\", \"oranges\"]\n",
    "title_names = [fruit.title() for fruit in fruits]\n",
    "title_names"
   ]
  },
  {
   "cell_type": "code",
   "execution_count": null,
   "metadata": {},
   "outputs": [],
   "source": [
    "# We can apply this to convert our distances from meters to kilometers.\n",
    "\n",
    "distances_km = [d / 1000.0 for d in distances_m]\n",
    "distances_km"
   ]
  },
  {
   "cell_type": "code",
   "execution_count": null,
   "metadata": {},
   "outputs": [],
   "source": [
    "# A list comprehension is more concise and pythonic than a conventional for-loop.\n",
    "# Consider the following loop that actually does not work.\n",
    "\n",
    "fruits = [\"apples\", \"bananas\", \"oranges\"]\n",
    "for fruit in fruits:\n",
    "    fruit = fruit.title()\n",
    "fruits\n",
    "\n",
    "# OOPS! This is calling title, but is overriding the iterating variable,\n",
    "# not the list element directly!\n",
    "\n",
    "# the title() function capitalizes the first letter of each word in the string"
   ]
  },
  {
   "cell_type": "code",
   "execution_count": null,
   "metadata": {},
   "outputs": [],
   "source": [
    "# This works, but we really dont want to write for-loops like this in Python.\n",
    "\n",
    "fruits = [\"apples\", \"bananas\", \"oranges\"]\n",
    "for i in range(len(fruits)):\n",
    "    fruits[i] = fruits[i].title()\n",
    "fruits"
   ]
  },
  {
   "cell_type": "code",
   "execution_count": null,
   "metadata": {},
   "outputs": [],
   "source": [
    "# We could also copy the transformed elements into a new list using a\n",
    "# traditional loop and an append, but this is still less pythonic.\n",
    "\n",
    "fruits = [\"apples\", \"bananas\", \"oranges\"]\n",
    "title_characters = []\n",
    "for fruit in fruits:\n",
    "    title_characters.append(fruit.title())\n",
    "title_characters"
   ]
  }
 ],
 "metadata": {
  "kernelspec": {
   "display_name": "Python 3",
   "language": "python",
   "name": "python3"
  },
  "language_info": {
   "codemirror_mode": {
    "name": "ipython",
    "version": 3
   },
   "file_extension": ".py",
   "mimetype": "text/x-python",
   "name": "python",
   "nbconvert_exporter": "python",
   "pygments_lexer": "ipython3",
   "version": "3.12.1"
  },
  "orig_nbformat": 4
 },
 "nbformat": 4,
 "nbformat_minor": 2
}
