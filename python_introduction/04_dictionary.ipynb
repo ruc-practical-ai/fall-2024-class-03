{
 "cells": [
  {
   "cell_type": "markdown",
   "metadata": {},
   "source": [
    "## Dictionaries\n",
    "\n",
    "Here we take a brief look at dictionaries."
   ]
  },
  {
   "cell_type": "code",
   "execution_count": 1,
   "metadata": {},
   "outputs": [
    {
     "data": {
      "text/plain": [
       "{'green': 'star', 'purple': 'cylinder', 'orange': 'cube'}"
      ]
     },
     "execution_count": 1,
     "metadata": {},
     "output_type": "execute_result"
    }
   ],
   "source": [
    "# A dictionary is a mapping of one set of values to another set of values.\n",
    "# Below we are mapping colors to shapes for a toy set. Dictionaries are defined\n",
    "# using curly braces, with element pairs defined using a colon (the left of the\n",
    "# colon is the key, and the right of the colon is the value; these are called\n",
    "# key-value pairs).\n",
    "\n",
    "shapes = {\"green\": \"star\", \"purple\": \"cylinder\", \"orange\": \"cube\"}\n",
    "shapes"
   ]
  },
  {
   "cell_type": "code",
   "execution_count": 2,
   "metadata": {},
   "outputs": [
    {
     "data": {
      "text/plain": [
       "'star'"
      ]
     },
     "execution_count": 2,
     "metadata": {},
     "output_type": "execute_result"
    }
   ],
   "source": [
    "# We can access elements using the subscript operator (square braces) with a\n",
    "# key-value. Below we are accessing the shape associated with the color green.\n",
    "\n",
    "shapes[\"green\"]"
   ]
  },
  {
   "cell_type": "code",
   "execution_count": 3,
   "metadata": {},
   "outputs": [
    {
     "name": "stdout",
     "output_type": "stream",
     "text": [
      "the star is green\n",
      "the cylinder is purple\n",
      "the cube is orange\n"
     ]
    }
   ],
   "source": [
    "# We can also use a for-loop with a dictionary. We can get each key-value pair\n",
    "# at once by iterating over the elements provided by the items function. (The\n",
    "# items function packs keys and their values together.)\n",
    "\n",
    "for key, value in shapes.items():\n",
    "    print(\"the {} is {}\".format(value, key))"
   ]
  },
  {
   "cell_type": "code",
   "execution_count": 4,
   "metadata": {},
   "outputs": [
    {
     "data": {
      "text/plain": [
       "{'green': 'star', 'purple': 'cylinder', 'orange': 'cube', 'red': 'X'}"
      ]
     },
     "execution_count": 4,
     "metadata": {},
     "output_type": "execute_result"
    }
   ],
   "source": [
    "# We can also assign new pairs in a dictionary by just assigning a value with\n",
    "# the subscript operator\n",
    "\n",
    "shapes[\"red\"] = \"X\"\n",
    "shapes"
   ]
  }
 ],
 "metadata": {
  "kernelspec": {
   "display_name": "Python 3",
   "language": "python",
   "name": "python3"
  },
  "language_info": {
   "codemirror_mode": {
    "name": "ipython",
    "version": 3
   },
   "file_extension": ".py",
   "mimetype": "text/x-python",
   "name": "python",
   "nbconvert_exporter": "python",
   "pygments_lexer": "ipython3",
   "version": "3.12.1"
  },
  "orig_nbformat": 4
 },
 "nbformat": 4,
 "nbformat_minor": 2
}
