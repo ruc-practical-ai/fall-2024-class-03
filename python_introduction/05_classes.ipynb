{
 "cells": [
  {
   "cell_type": "markdown",
   "metadata": {},
   "source": [
    "# Classes in Python\n",
    "\n",
    "Classes enable representing relationships between data (variables) and actions (functions) in our code. Classes are templates for *objects*. We can think of a class like a cookie cutter (for those who like culinary analogies) or a jig (for those who like woodworking analogies) which serve as a template for printing new *instances* of a general pattern.\n",
    "\n",
    "Classes enable representing relationships between data and functions which change that data, and also enable representing relationships between objects. For example, we can use classes to specify that a square *is a* rectangle, and a rectangle *has a* side length. Using classes to represent concepts and relationships between them in our code is called *object oriented programming (OOP)*.\n",
    "\n",
    "In the spirit of being kind to those who have to read our code (including our future selves) we use OOP in professional programming to express relationships between the concepts we are representing. We might not often think of software development as a means of self-expression, the same way we think of spoken and written languages (like English, Spanish, or any other language) as a means of self expression. However, when we learn to use classes, we can see the expressive power that programming languages truly have.\n",
    "\n",
    "The linguist John Rupert Firth said\n",
    "\n",
    "> \"You shall know a word by the company it keeps.\"\n",
    "\n",
    "(which is a quote that remains just as relevant to the workings of modern natural language processing algorithms as it was to linguists when Firth first said it). In the same way that spoken languages enable use to tailor the fidelity in which we represent concepts to our listeners by keeping words close to those concepts, classes enable us to tailor the fidelity in which we represent concepts to *future readers of our code* by keeping related concepts together.\n",
    "\n",
    "For example, when speaking, I might chose to say\n",
    "\n",
    "> \"This pen writes.\"\n",
    "\n",
    "which is a lot like writing the following basic code.\n",
    "\n",
    "```python\n",
    "from system_writing_library import move_instrument_to_location, write_word\n",
    "def write_with_pen(words, starting_location_coordinates):\n",
    "    move_pen_to_location(start_location_coordinates)\n",
    "    for word in word:\n",
    "        write_word(word)\n",
    "```\n",
    "\n",
    "But saying \"This pen writes.\" is a lot like only being able to speak grade school english. We want to associate other concepts with a pen so our readers can ascertain a more vivid idea of what we're talking about. When we speak, we want to use language to carve out a percept of the object that is the target of our speech, so our listeners can ascertain the percept as if they ascertained it via their own perception.\n",
    "\n",
    "We can instead use the following, much more descriptive language.\n",
    "\n",
    "> \"This is a pen. A pen is a writing instrument, much like the pencil. A pen writes, but it has many other useful properties these other writing instruments do not posses. This pen is black but its ink can be changed out for red or blue. This pen's ink retracts into its body with the push of a button, to protect our shirts from stains. I just clicked my pen so the ink is out. Now, this blue pen is clicked open, and writes.\"\n",
    "\n",
    "This is like writing the following, much more professional code.\n",
    "\n",
    "```python\n",
    "from system_writing_library import (\n",
    "    move_instrument_to_location, write_word, erase_word\n",
    ")\n",
    "\n",
    "class WritingInstrument:\n",
    "    \"\"\"General writing instrument class.\"\"\"\n",
    "\n",
    "    def __init__(self, ink_color):\n",
    "        \"\"\"Initialize a writing instrument.\"\"\"\n",
    "        self.ink_color = ink_color\n",
    "\n",
    "    def write(self, words, starting_location_coordinates):\n",
    "        \"\"\"Write the given words at the given coordinates on the page.\"\"\"\n",
    "        move_instrument_to_location(start_location_coordinates)\n",
    "        for word in word:\n",
    "            write_word(word)\n",
    "\n",
    "\n",
    "class Pen(WritingInstrument):\n",
    "    \"\"\"Defines a pen and its attributes and capabilities.\"\"\"\n",
    "\n",
    "    def __init__(self, ink_color):\n",
    "        \"\"\"Initialize a pen.\"\"\"\n",
    "        self.ink_retracted = True\n",
    "        super().__init__()\n",
    "\n",
    "    def change_ink(self, new_ink_color):\n",
    "        \"\"\"Change the ink color to the new ink color.\"\"\"\n",
    "        self.ink_color = new_ink_color\n",
    "    \n",
    "    def click_pen(self):\n",
    "        \"\"\"Toggles whether or not the ink is retracted.\n",
    "        \n",
    "        Use this function to avoid staining your shirt.\n",
    "        \"\"\"\n",
    "        self.ink_retracted = not self.ink_retracted\n",
    "\n",
    "    def write(self, words, start_location_coordinates):\n",
    "        \"\"\"Checks if the ink is retracted and writes the words if it is not.\"\"\"\n",
    "        if not self.ink_retracted:\n",
    "            super.write()\n",
    "\n",
    "class Pencil(WritingInstrument):\n",
    "    \"\"\"Defines a pencil and its attributes.\"\"\"\n",
    "\n",
    "    def erase(self, words_to_erase, start_location_coordinates):\n",
    "        \"\"\"Remove writing from the page, unique feature of the pencil.\"\"\"\n",
    "        move_instrument_to_location(start_location_coordinates)\n",
    "        for word in words_to_erase:\n",
    "            erase_word(word)\n",
    "\n",
    "my_pen = Pen(\"blue\")\n",
    "my_pen.click_pen()\n",
    "my_pen.write(\"This is a pen.\", (0,0))\n",
    "```\n",
    "\n",
    "This code does a much better job communicating more to our teammates and future selves, and overall is more professional. The first, purely functional example communicates that a pen writes. By contrast, this OOP example communicates:\n",
    "* My pen is a blue pen.\n",
    "* I clicked my pen to open it.\n",
    "* My pen writes.\n",
    "* My pen can write because it is a writing instrument.\n",
    "* A pencil is also a writing instrument.\n",
    "* My pen must be clicked to use it. This can help avoid staining my shirt.\n",
    "* My pen writes like any other writing instrument, but will not write if I did not click it open.\n",
    "* Even though my pen is a writing instrument, and a pencil is not a writing instrument, only my pencil can erase.\n",
    "\n",
    "While object oriented concepts are useful, they can also make code more complex if used incorrectly. Sometimes, OOP concepts can be misused where they do not apply. For example, consider the following simple function.\n",
    "\n",
    "```python\n",
    "def compute_f(x, y):\n",
    "    \"\"\"Compute f(x,y) = x**2 + y**2.\"\"\"\n",
    "    return x**2 + y**2\n",
    "\n",
    "compute_f(2, 3)\n",
    "compute_f(3, 4)\n",
    "```\n",
    "\n",
    "If this was all we wanted to do, it would add unnecessary complexity to our code to instead write the following (very bad) object oriented code.\n",
    "\n",
    "```python\n",
    "class FunctionComputer:\n",
    "    \"\"\"Provide a utility for computing f(x,y).\"\"\"\n",
    "\n",
    "    def __init__(self, x, y):\n",
    "        \"\"\"\"\"\"\n",
    "        self.x = x\n",
    "        self.y = y\n",
    "        f = None\n",
    "\n",
    "    def change_x(self, new_x):\n",
    "        \"\"\"Allow the user to change x.\"\"\"\n",
    "        self.x = new_x\n",
    "\n",
    "    def change_y(self, new_y):\n",
    "        \"\"\"Allow the user to change y.\"\"\"\n",
    "        self.y = new_y\n",
    "\n",
    "    def compute_f(self):\n",
    "        \"\"\"Compute f(x, y) where x and y were previously set.\"\"\"\n",
    "        self.f = _sum_of_squares(x, y)\n",
    "\n",
    "    def _sum_of_squares(self, x, y):\n",
    "        \"\"\"Compute the sum of the squares of the inputs.\"\"\"\n",
    "        return x**2 + y**2\n",
    "\n",
    "    def get_f(self):\n",
    "        \"\"\"Get the computed function value.\"\"\"\n",
    "        return f\n",
    "\n",
    "my_function_computer = FunctionComputer(2,3)\n",
    "my_function_computer.compute_f()\n",
    "my_function_computer.get_f()\n",
    "my_function_computer.change_x(3)\n",
    "my_function_computer.change_y(4)\n",
    "\n",
    "```\n",
    "\n",
    "That is an extreme example of how bad misused OOP can get, but it gets the point across.\n",
    "\n",
    "Fortunately, Python provides flexibility to use or not use object oriented paradigms when the do or do not make sense. In general, using object oriented paradigms is preferred when we are communicating to the readers of our code that something has a state (e.g., the toggle of the pen's ink retraction). Using functional programming is preferred when we are representing pure actions (like computing the sum of the squares of two numbers).\n",
    "\n",
    "Clues that we should use object oriented paradigms include:\n",
    "* We find ourselves writing functions that accept far too many parameters (more than 6 parameters)\n",
    "* We find ourselves wishing our functions could remember the values of internal variables between calls\n",
    "* We find ourselves passing around lists of parameters to several functions in our code\n",
    "* We find ourselves wishing that several functions could all access and change the same variables\n",
    "\n",
    "But even if these \"code smells\" are present, we can make them worse by applying object oriented code badly, so we need to be careful to self-assess our code as we are writing it to determine whether or not we should be using OOP and if we decide to use OOP, we need to keep a critical eye on our own work to decide if we need to rewrite it.\n",
    "\n",
    "One metric we can use to rate the quality of our object oriented code in this course is what we will call the ***maintenance information to code ratio***, defined by\n",
    "\n",
    "$$\n",
    "\\mathrm{Code\\ Quality} = \\frac{\\mathrm{Bullet\\ Points\\ of\\ Useful\\ Information\\ for\\ Maintainers}}{\\mathrm{Lines\\ of\\ Code + Comments}}.\n",
    "$$\n",
    "\n",
    "This metric demands that we strive to convey the most possible useful points of information to maintainers while giving them the fewest possible lines to maintain. Comments count in the *denominator* because using too many comments means we are not writing code that expresses itself!\n",
    "\n",
    "When in doubt and in need of a self-evaluation of the quality of our code, remember that code is a liability, not an asset. Like any other liability, we might want to use code to get useful tasks done and deem the liability acceptable, but we still want to have as little of the liability as possible. Every line of code we write incurs costs well into the future to run and maintain, and might keep incurring those costs after we're gone from our jobs. Each line of code we write comes with risk that someone in the future will misunderstand it and use it in the wrong way.\n",
    "\n",
    "The mitigation against the risk that others will misunderstand our code in the future is to write code that conveys information to the *reader* and not just to the computer, and balance the need to convey as much useful information to the reader as possible to help them maintain the code, with the need to have the least possible code. Good code ensures a good future by walking this middle way between conveying as much useful information as possible to those who have to maintain it, while leaving them the least possible code to maintain."
   ]
  },
  {
   "cell_type": "markdown",
   "metadata": {},
   "source": [
    "## Simple Class Example\n",
    "\n",
    "Here we define a simple class to represent cars. Having a `Car` class allows us to quickly generate many cars. Each time we generate a new car, the `__init__()` function is called. This creates all the *member variables* we will use to define a car. We can think of member variables as properties of a car. We can think of member variables as defining adjectives associated with a car. Below the `__init__()` function, we define additional *member functions*. The member functions are actions a car can take (we can think of these as defining verbs that are associated with a car). In general, all members variables represent *\"has a\"* relationships. For example, a car *has a* color, make, and model. All member functions represent a *\"has the ability to\"* relationship. A car has the ability to drive and alert pedestrians."
   ]
  },
  {
   "cell_type": "code",
   "execution_count": 2,
   "metadata": {},
   "outputs": [],
   "source": [
    "class Car:\n",
    "    \"\"\"Define a car class.\"\"\"\n",
    "\n",
    "    def __init__(self, color, make, model):\n",
    "        \"\"\"Initialize a car class.\"\"\"\n",
    "        self.color = color\n",
    "        self.make = make\n",
    "        self.model = model\n",
    "        self.x_location = 0\n",
    "        self.y_location = 0\n",
    "\n",
    "    def drive(self, new_x_location, new_y_location):\n",
    "        \"\"\"Drive to a new location.\"\"\"\n",
    "        self.x_location = new_x_location\n",
    "        self.y_location = new_y_location\n",
    "\n",
    "    def alert_pedestrians(self):\n",
    "        \"\"\"Warn pedestrians the car is coming.\"\"\"\n",
    "        print(\n",
    "            f\"The {self.color} {self.make} {self.model} is honking its horn\"\n",
    "            \" from location ({self.x_location} m, {self.y_location} m)\"\n",
    "        )"
   ]
  },
  {
   "cell_type": "markdown",
   "metadata": {},
   "source": [
    "## Using Instances of Classes\n",
    "\n",
    "We can use our class like a cookie cutter to generate new instances of the class (in this case, specific cars of a specific color, make, and model)."
   ]
  },
  {
   "cell_type": "code",
   "execution_count": 3,
   "metadata": {},
   "outputs": [
    {
     "name": "stdout",
     "output_type": "stream",
     "text": [
      "The blue Honda Accord is honking its horn from location ({self.x_location} m, {self.y_location} m)\n",
      "The grey Toyota Camry is honking its horn from location ({self.x_location} m, {self.y_location} m)\n"
     ]
    }
   ],
   "source": [
    "car1 = Car(\"blue\", \"Honda\", \"Accord\")\n",
    "car2 = Car(\"grey\", \"Toyota\", \"Camry\")\n",
    "\n",
    "car1.drive(new_x_location=10, new_y_location=10)\n",
    "car2.drive(new_x_location=4, new_y_location=6)\n",
    "car1.alert_pedestrians()\n",
    "car2.alert_pedestrians()"
   ]
  },
  {
   "cell_type": "markdown",
   "metadata": {},
   "source": [
    "## Understanding Scope\n",
    "\n",
    "When working with classes, it is important to understand the *scope* we are operating in. We can think of the scope as the limits of all the variables that are currently in our view when executing a line. In Python, a scope is the region of text where a namespace (record of variable and function names Python keeps track of for us) is directly accessible.\n",
    "\n",
    "For example, we can have two variables named `x` in different scopes. If we change one of them, it will have no effect on the other."
   ]
  },
  {
   "cell_type": "code",
   "execution_count": 4,
   "metadata": {},
   "outputs": [
    {
     "name": "stdout",
     "output_type": "stream",
     "text": [
      "3\n",
      "2\n"
     ]
    }
   ],
   "source": [
    "x = 2\n",
    "\n",
    "\n",
    "def f():\n",
    "    x = 3\n",
    "    print(x)\n",
    "\n",
    "\n",
    "f()\n",
    "print(x)"
   ]
  },
  {
   "cell_type": "markdown",
   "metadata": {},
   "source": [
    "In Python, classes have a different scope than surrounding code in a module. Further, if we use the keyword `self` to specify that we are referring to a member of the class (e.g., `self.x`) then we will be referring to a different variable than if we just refer to `x`. Consider and be sure to understand the following example."
   ]
  },
  {
   "cell_type": "code",
   "execution_count": 4,
   "metadata": {},
   "outputs": [
    {
     "name": "stdout",
     "output_type": "stream",
     "text": [
      "1\n",
      "3\n",
      "2\n"
     ]
    }
   ],
   "source": [
    "class Example:\n",
    "    def __init__(self, x):\n",
    "        self.x = x\n",
    "\n",
    "    def print_your_x(self, x):\n",
    "        print(x)\n",
    "\n",
    "    def print_my_x(self):\n",
    "        print(self.x)\n",
    "\n",
    "\n",
    "x = 1\n",
    "print(x)\n",
    "example = Example(2)\n",
    "example.print_your_x(3)\n",
    "example.print_my_x()"
   ]
  },
  {
   "cell_type": "markdown",
   "metadata": {},
   "source": [
    "## Inheritance\n",
    "\n",
    "While class members represent *\"has a\"* relationships, class inheritance represents *\"is a\"* relationships. If we want to represent that something is a specific version or variant of a broader thing, then we use class inheritance. Class inheritance, when used properly, can help us increase our maintenance information to code ratio by enabling us to reuse attributes and methods that are common between related objects. This reduces the overall code that we have to write by enabling reuse, and expresses more useful information for maintainers of that code by representing the relationship between the objects in the code itself. No comments are required to explain this! All the information is right there in the code. When we do this well, we say the code is *\"self-documenting\"*.\n",
    "\n",
    "If a class is a more specific instance of a more general class, then we call the more specific class a *child* class and the more general class the *parent* class. Children are said to *inherit* attributes from their parents. In Python, parent classes are often referred to as *super* classes, since the more general class defines a superset of the more specific class. The classic example of inheritance in OOP is rectangles and squares. All squares are rectangles but not all rectangles are squares. So, it makes sense to implement a square as a child class of a rectangle parent class. When determining whether a class should be a parent or a child, remember that the sentence \"Child Class Name *is a* Parent Class Name\" should make sense. For example, \"Square *is a* Rectangle\" makes sense but \"Rectangle *is a* Square\" does not always make sense!\n",
    "\n",
    "Here we see inheritance applied to our car example. We also saw this above with our pen example. Hopefully now that example will make more sense."
   ]
  },
  {
   "cell_type": "code",
   "execution_count": 5,
   "metadata": {},
   "outputs": [],
   "source": [
    "class Vehicle:\n",
    "    \"\"\"Define a generic vehicle class\"\"\"\n",
    "\n",
    "    def __init__(self, color, make, model):\n",
    "        \"\"\"Initialize a vehicle\"\"\"\n",
    "        self.color = color\n",
    "        self.make = make\n",
    "        self.model = model\n",
    "        self.x_location = 0\n",
    "        self.y_location = 0\n",
    "\n",
    "    def drive(self, new_x_location, new_y_location):\n",
    "        \"\"\"Drive to a new location.\"\"\"\n",
    "        self.x_location = new_x_location\n",
    "        self.y_location = new_y_location\n",
    "\n",
    "    def alert_pedestrian(self):\n",
    "        \"\"\"Warn pedestrians the car is coming.\"\"\"\n",
    "        raise NotImplementedError(\n",
    "            \"Super Vehicle does not have a specific alert method\"\n",
    "        )\n",
    "\n",
    "\n",
    "class Car(Vehicle):\n",
    "    \"\"\"Define a car class.\"\"\"\n",
    "\n",
    "    def alert_pedestrians(self):\n",
    "        \"\"\"Warn pedestrians the car is coming.\"\"\"\n",
    "        print(\n",
    "            f\"The {self.color} {self.make} {self.model} is honking its horn\"\n",
    "            \" from location ({self.x_location} m, {self.y_location} m)\"\n",
    "        )\n",
    "\n",
    "\n",
    "class Bicycle(Vehicle):\n",
    "    \"\"\"Define a bicycle class.\"\"\"\n",
    "\n",
    "    def alert_pedestrians(self):\n",
    "        \"\"\"Warn pedestrians the bicycle is coming.\"\"\"\n",
    "        print(\n",
    "            f\"The {self.color} {self.make} {self.model} is ringing its bell\"\n",
    "            \" from location ({self.x_location} m, {self.y_location} m)\"\n",
    "        )"
   ]
  },
  {
   "cell_type": "markdown",
   "metadata": {},
   "source": [
    "Now we already know how to use these classes because the code is so self-expressive."
   ]
  },
  {
   "cell_type": "code",
   "execution_count": 6,
   "metadata": {},
   "outputs": [
    {
     "name": "stdout",
     "output_type": "stream",
     "text": [
      "The blue Honda Accord is honking its horn from location ({self.x_location} m, {self.y_location} m)\n",
      "The red Schwinn Ranger is ringing its bell from location ({self.x_location} m, {self.y_location} m)\n"
     ]
    }
   ],
   "source": [
    "bicycle = Bicycle(\"red\", \"Schwinn\", \"Ranger\")\n",
    "car = Car(\"blue\", \"Honda\", \"Accord\")\n",
    "\n",
    "\n",
    "car.drive(new_x_location=10, new_y_location=10)\n",
    "bicycle.drive(new_x_location=4, new_y_location=6)\n",
    "car.alert_pedestrians()\n",
    "bicycle.alert_pedestrians()"
   ]
  },
  {
   "cell_type": "markdown",
   "metadata": {},
   "source": [
    "Python can support multiple inheritance, meaning one child can have multiple parents. In most cases, classes are searched for inherited attributes from parent classes via a depth-first, left to right search. We will not use this feature as much in class, but you might see it someday in the wild.\n",
    "\n",
    "Further reading can be done in the [python documentation](https://docs.python.org/3/howto/mro.html#python-2-3-mro) and in Python creator Guido van Rossum's blog post [here](https://python-history.blogspot.com/2010/06/method-resolution-order.html)."
   ]
  },
  {
   "cell_type": "code",
   "execution_count": 7,
   "metadata": {},
   "outputs": [
    {
     "name": "stdout",
     "output_type": "stream",
     "text": [
      "Set Parent B's member variable value!\n",
      "Set Parent A's member variable value!\n",
      "Parent A's Member Variable Value\n",
      "Parent B's Member Variable Value\n"
     ]
    }
   ],
   "source": [
    "class ParentA:\n",
    "    def __init__(self):\n",
    "        super(ParentA, self).__init__()\n",
    "        self.parent_a_member = \"Parent A's Member Variable Value\"\n",
    "        print(\"Set Parent A's member variable value!\")\n",
    "\n",
    "    def print_parent_a_member(self):\n",
    "        print(self.parent_a_member)\n",
    "\n",
    "\n",
    "class ParentB:\n",
    "    def __init__(self):\n",
    "        super(ParentB, self).__init__()\n",
    "        self.parent_b_member = \"Parent B's Member Variable Value\"\n",
    "        print(\"Set Parent B's member variable value!\")\n",
    "\n",
    "    def print_parent_b_member(self):\n",
    "        print(self.parent_b_member)\n",
    "\n",
    "\n",
    "class Child(ParentA, ParentB):\n",
    "    def __init__(self):\n",
    "        super(Child, self).__init__()\n",
    "\n",
    "\n",
    "child = Child()\n",
    "\n",
    "child.print_parent_a_member()\n",
    "child.print_parent_b_member()"
   ]
  },
  {
   "cell_type": "markdown",
   "metadata": {},
   "source": [
    "## Private Member Variables\n",
    "\n",
    "We have seen that we can use member variables to represent attribute of an object. Users of the object (i.e., other developers who use the object in their code) can access these members and manipulate them. We often refer to the code that must use as object as the \"user code\"."
   ]
  },
  {
   "cell_type": "code",
   "execution_count": 8,
   "metadata": {},
   "outputs": [
    {
     "name": "stdout",
     "output_type": "stream",
     "text": [
      "Object A's Member Variable Value\n",
      "New Value\n"
     ]
    }
   ],
   "source": [
    "class ObjectA:\n",
    "    def __init__(self):\n",
    "        self.member = \"Object A's Member Variable Value\"\n",
    "\n",
    "\n",
    "object_a = ObjectA()\n",
    "print(object_a.member)\n",
    "\n",
    "object_a.member = \"New Value\"\n",
    "print(object_a.member)"
   ]
  },
  {
   "cell_type": "markdown",
   "metadata": {},
   "source": [
    "As developers, we need to keep both the end users of our system in mind, and the other developers who need to interface with our code! We want to make like as easy as possible for both groups of users. In the same way that we expect the end-user interfaces to our products to be intuitive and easy to use we also need the user-code interfaces for other developers who work with our code to be easy to use.\n",
    "\n",
    "To support this goal, we might not want users of our code to access and modify all of our member variables. For example, some member variables might be specific to a particular algorithm we are implementing. If our user is relying on us to implement that algorithm, we probably do not want them changing the values of variables internal to the algorithm they delegated to our code to solve.\n",
    "\n",
    "In some languages, like C++, we can explicitly prevent user-code from accessing variables by declaring them *private*. Python has no notion of truly private variables, however, we can use a naming convention to indicate to our users that they should not be accessing or changing certain variables, and that they should have no expectation that these variables will have the same names or be accessible in the same way in the future. We do this by preceding the name with a single underscore."
   ]
  },
  {
   "cell_type": "code",
   "execution_count": 9,
   "metadata": {},
   "outputs": [
    {
     "name": "stdout",
     "output_type": "stream",
     "text": [
      "Public Member Value\n",
      "Private Member Value\n"
     ]
    }
   ],
   "source": [
    "class Example:\n",
    "    def __init__(self):\n",
    "        self.public_member = \"Public Member Value\"\n",
    "        self._private_member = \"Private Member Value\"\n",
    "\n",
    "\n",
    "example = Example()\n",
    "print(example.public_member)\n",
    "print(example._private_member)"
   ]
  },
  {
   "cell_type": "markdown",
   "metadata": {},
   "source": [
    "Notice that we can still access the \"private\" member value. The underscore just provides a warning to users not to access that variable. It does not explicitly prevent them from doing so!\n",
    "\n",
    "We can also access member variables from subclasses. This can cause name collisions if we are not careful."
   ]
  },
  {
   "cell_type": "code",
   "execution_count": 10,
   "metadata": {},
   "outputs": [
    {
     "name": "stdout",
     "output_type": "stream",
     "text": [
      "Parent Private Member Value\n",
      "Child Private Member Value\n"
     ]
    }
   ],
   "source": [
    "class Parent:\n",
    "    def __init__(self):\n",
    "        self._private_member = \"Parent Private Member Value\"\n",
    "\n",
    "    def parent_print_private_member(self):\n",
    "        print(self._private_member)\n",
    "\n",
    "\n",
    "class Child(Parent):\n",
    "    def __init__(self):\n",
    "        self._private_member = \"Child Private Member Value\"\n",
    "\n",
    "\n",
    "# Prints the parent's private member variable value\n",
    "parent = Parent()\n",
    "parent.parent_print_private_member()\n",
    "\n",
    "# Prints the child's private member variable value\n",
    "child = Child()\n",
    "child.parent_print_private_member()"
   ]
  },
  {
   "cell_type": "markdown",
   "metadata": {},
   "source": [
    "Here we have overwritten the parent's private member value with the child's private member value. Even though we are calling the parent's member function, which is accessing the member variable from within its scope, we still see the value written when we initialized the child and called the child's `__init__()` function.\n",
    "\n",
    "This is fine if this is really what we want to do, but what if we want to use the same name for a variable but have it refer to two different values in a parent and child class?\n",
    "\n",
    "In this case, we can preface the variable name with two underscores, e.g., `self.__member`. This is called name mangling, and Python will replace the first underscore with `_classname_` so that the variable now has a name that does not collide with other variables of the same name in child objects."
   ]
  },
  {
   "cell_type": "code",
   "execution_count": 11,
   "metadata": {},
   "outputs": [
    {
     "name": "stdout",
     "output_type": "stream",
     "text": [
      "Parent Private Member Value\n"
     ]
    }
   ],
   "source": [
    "class Parent:\n",
    "    def __init__(self):\n",
    "        self.__private_member = \"Parent Private Member Value\"\n",
    "\n",
    "    def parent_print_private_member(self):\n",
    "        print(self.__private_member)\n",
    "\n",
    "\n",
    "class Child(Parent):\n",
    "    def __init__(self):\n",
    "        self.__private_member = \"Child Private Member Value\"\n",
    "\n",
    "\n",
    "# Prints the parent's private member\n",
    "parent = Parent()\n",
    "parent.parent_print_private_member()\n",
    "\n",
    "\n",
    "# Throws an error since the child's private member variable is unpacked to a\n",
    "# different value (_Child__private_member) than the parent\n",
    "# (_Parent__private_member)\n",
    "child = Child()\n",
    "# child.parent_print_private_member()"
   ]
  },
  {
   "cell_type": "markdown",
   "metadata": {},
   "source": [
    "## Struct-like Functionality with `dataclasses`\n",
    "\n",
    "Classes can be just as useful for grouping like data together as they are for grouping data and functions together. This is like the concept of a struct in C. In Python, this is called a dataclass."
   ]
  },
  {
   "cell_type": "code",
   "execution_count": 12,
   "metadata": {},
   "outputs": [
    {
     "name": "stdout",
     "output_type": "stream",
     "text": [
      "3.4\n"
     ]
    }
   ],
   "source": [
    "from dataclasses import dataclass\n",
    "\n",
    "\n",
    "@dataclass\n",
    "class Student:\n",
    "    name: str\n",
    "    year: int\n",
    "    gpa: float\n",
    "\n",
    "\n",
    "john = Student(\"John\", 11, 3.4)\n",
    "\n",
    "print(john.gpa)"
   ]
  }
 ],
 "metadata": {
  "kernelspec": {
   "display_name": "Python 3",
   "language": "python",
   "name": "python3"
  },
  "language_info": {
   "codemirror_mode": {
    "name": "ipython",
    "version": 3
   },
   "file_extension": ".py",
   "mimetype": "text/x-python",
   "name": "python",
   "nbconvert_exporter": "python",
   "pygments_lexer": "ipython3",
   "version": "3.12.1"
  }
 },
 "nbformat": 4,
 "nbformat_minor": 2
}
